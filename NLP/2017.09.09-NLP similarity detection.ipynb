{
 "cells": [
  {
   "cell_type": "code",
   "execution_count": 1,
   "metadata": {
    "collapsed": true
   },
   "outputs": [],
   "source": [
    "import pandas as pd\n",
    "import string\n",
    "import nltk\n",
    "from sklearn.feature_extraction.text import CountVectorizer, TfidfVectorizer\n",
    "\n",
    "from matplotlib import pyplot as plt\n",
    "%matplotlib inline\n",
    "import seaborn"
   ]
  },
  {
   "cell_type": "code",
   "execution_count": 2,
   "metadata": {
    "collapsed": false
   },
   "outputs": [
    {
     "name": "stderr",
     "output_type": "stream",
     "text": [
      "Skipping line 44: expected 4 fields, saw 8\n",
      "Skipping line 45: expected 4 fields, saw 5\n",
      "Skipping line 18798: expected 4 fields, saw 7\n",
      "Skipping line 32145: expected 4 fields, saw 5\n",
      "Skipping line 38888: expected 4 fields, saw 21\n",
      "Skipping line 43707: expected 4 fields, saw 9\n",
      "Skipping line 59495: expected 4 fields, saw 18\n",
      "Skipping line 71979: expected 4 fields, saw 6\n",
      "Skipping line 75651: expected 4 fields, saw 6\n",
      "Skipping line 75864: expected 4 fields, saw 5\n",
      "Skipping line 76298: expected 4 fields, saw 11\n",
      "Skipping line 77021: expected 4 fields, saw 5\n",
      "Skipping line 88982: expected 4 fields, saw 9\n",
      "Skipping line 95139: expected 4 fields, saw 5\n",
      "Skipping line 96523: expected 4 fields, saw 5\n",
      "Skipping line 99169: expected 4 fields, saw 5\n",
      "Skipping line 100664: expected 4 fields, saw 6\n",
      "Skipping line 102151: expected 4 fields, saw 5\n",
      "Skipping line 104137: expected 4 fields, saw 5\n",
      "Skipping line 105744: expected 4 fields, saw 5\n",
      "Skipping line 109188: expected 4 fields, saw 8\n",
      "\n",
      "Skipping line 132555: expected 4 fields, saw 7\n",
      "Skipping line 135880: expected 4 fields, saw 5\n",
      "Skipping line 137865: expected 4 fields, saw 6\n",
      "Skipping line 152638: expected 4 fields, saw 5\n",
      "Skipping line 168643: expected 4 fields, saw 6\n",
      "\n"
     ]
    }
   ],
   "source": [
    "data = pd.read_csv('/Users/syan/DataScience/test_codes/NLP/interview_dataset.csv', error_bad_lines=False)"
   ]
  },
  {
   "cell_type": "code",
   "execution_count": 3,
   "metadata": {
    "collapsed": false
   },
   "outputs": [
    {
     "data": {
      "text/html": [
       "<div>\n",
       "<style>\n",
       "    .dataframe thead tr:only-child th {\n",
       "        text-align: right;\n",
       "    }\n",
       "\n",
       "    .dataframe thead th {\n",
       "        text-align: left;\n",
       "    }\n",
       "\n",
       "    .dataframe tbody tr th {\n",
       "        vertical-align: top;\n",
       "    }\n",
       "</style>\n",
       "<table border=\"1\" class=\"dataframe\">\n",
       "  <thead>\n",
       "    <tr style=\"text-align: right;\">\n",
       "      <th></th>\n",
       "      <th>id</th>\n",
       "      <th>pos_id</th>\n",
       "      <th>title</th>\n",
       "      <th>summary</th>\n",
       "    </tr>\n",
       "  </thead>\n",
       "  <tbody>\n",
       "    <tr>\n",
       "      <th>0</th>\n",
       "      <td>192841627</td>\n",
       "      <td>700291706</td>\n",
       "      <td>Field Service Contractor</td>\n",
       "      <td>Onforce.com, Fieldsolutions.com, FieldNation.c...</td>\n",
       "    </tr>\n",
       "    <tr>\n",
       "      <th>1</th>\n",
       "      <td>192158267</td>\n",
       "      <td>698327712</td>\n",
       "      <td>Medical Claims Processor</td>\n",
       "      <td>Processing medical claims using codes CPT, ICD-9.</td>\n",
       "    </tr>\n",
       "    <tr>\n",
       "      <th>2</th>\n",
       "      <td>162830031</td>\n",
       "      <td>649732842</td>\n",
       "      <td>Deputy Officer</td>\n",
       "      <td>Brakes India Limited is a leading manufacturer...</td>\n",
       "    </tr>\n",
       "    <tr>\n",
       "      <th>3</th>\n",
       "      <td>192683907</td>\n",
       "      <td>699801203</td>\n",
       "      <td>Quality Inspector</td>\n",
       "      <td>Responsibilities \\n Inspect honda carpet on fi...</td>\n",
       "    </tr>\n",
       "    <tr>\n",
       "      <th>4</th>\n",
       "      <td>111311501</td>\n",
       "      <td>568294846</td>\n",
       "      <td>Grocery Team Leader</td>\n",
       "      <td>Currently managing staff of 13 employees throu...</td>\n",
       "    </tr>\n",
       "  </tbody>\n",
       "</table>\n",
       "</div>"
      ],
      "text/plain": [
       "          id     pos_id                     title  \\\n",
       "0  192841627  700291706  Field Service Contractor   \n",
       "1  192158267  698327712  Medical Claims Processor   \n",
       "2  162830031  649732842            Deputy Officer   \n",
       "3  192683907  699801203         Quality Inspector   \n",
       "4  111311501  568294846       Grocery Team Leader   \n",
       "\n",
       "                                             summary  \n",
       "0  Onforce.com, Fieldsolutions.com, FieldNation.c...  \n",
       "1  Processing medical claims using codes CPT, ICD-9.  \n",
       "2  Brakes India Limited is a leading manufacturer...  \n",
       "3  Responsibilities \\n Inspect honda carpet on fi...  \n",
       "4  Currently managing staff of 13 employees throu...  "
      ]
     },
     "execution_count": 3,
     "metadata": {},
     "output_type": "execute_result"
    }
   ],
   "source": [
    "data.head()"
   ]
  },
  {
   "cell_type": "code",
   "execution_count": 4,
   "metadata": {
    "collapsed": false
   },
   "outputs": [
    {
     "data": {
      "text/plain": [
       "((171211, 4), 170902, 171159)"
      ]
     },
     "execution_count": 4,
     "metadata": {},
     "output_type": "execute_result"
    }
   ],
   "source": [
    "data.shape, data['id'].nunique(), data['pos_id'].nunique()"
   ]
  },
  {
   "cell_type": "markdown",
   "metadata": {},
   "source": [
    "### Field \"summary\" includes the self-descriptions of the candidates"
   ]
  },
  {
   "cell_type": "code",
   "execution_count": 5,
   "metadata": {
    "collapsed": false
   },
   "outputs": [
    {
     "data": {
      "text/plain": [
       "'Brakes India Limited is a leading manufacturer of Auto components. We provide innovative and eco-efficient solutions for Air Caliper Machining and Piston Housing Caliper Machine. My role as individual contributor involves day to day treasury operations.'"
      ]
     },
     "execution_count": 5,
     "metadata": {},
     "output_type": "execute_result"
    }
   ],
   "source": [
    "data['summary'].iloc[2]"
   ]
  },
  {
   "cell_type": "markdown",
   "metadata": {},
   "source": [
    "### cleaning data"
   ]
  },
  {
   "cell_type": "code",
   "execution_count": 6,
   "metadata": {
    "collapsed": false
   },
   "outputs": [],
   "source": [
    "data['title'] = data['title'].apply(lambda x: str(x).lower())\n",
    "data['summary'] = data['summary'].apply(lambda x: str(x).lower())"
   ]
  },
  {
   "cell_type": "code",
   "execution_count": 7,
   "metadata": {
    "collapsed": false
   },
   "outputs": [],
   "source": [
    "data['title'] = data['title'].apply(lambda x: str(x).translate(string.maketrans(\"\",\"\"), string.punctuation))\n",
    "data['summary'] = data['summary'].apply(lambda x: str(x).translate(string.maketrans(\"\",\"\"), string.punctuation))"
   ]
  },
  {
   "cell_type": "code",
   "execution_count": 8,
   "metadata": {
    "collapsed": true
   },
   "outputs": [],
   "source": [
    "data['combined_field'] = data['title'] + ' ' + data['summary']"
   ]
  },
  {
   "cell_type": "code",
   "execution_count": 9,
   "metadata": {
    "collapsed": false
   },
   "outputs": [
    {
     "data": {
      "text/plain": [
       "'medical claims processor processing medical claims using codes cpt icd9'"
      ]
     },
     "execution_count": 9,
     "metadata": {},
     "output_type": "execute_result"
    }
   ],
   "source": [
    "data['combined_field'].iloc[1]"
   ]
  },
  {
   "cell_type": "markdown",
   "metadata": {},
   "source": [
    "### 1-3 grams on \"title\" + \"summary\""
   ]
  },
  {
   "cell_type": "code",
   "execution_count": 10,
   "metadata": {
    "collapsed": false
   },
   "outputs": [
    {
     "name": "stdout",
     "output_type": "stream",
     "text": [
      "[u'i', u'me', u'my', u'myself', u'we', u'our', u'ours', u'ourselves', u'you', u'your', u'yours', u'yourself', u'yourselves', u'he', u'him', u'his', u'himself', u'she', u'her', u'hers', u'herself', u'it', u'its', u'itself', u'they', u'them', u'their', u'theirs', u'themselves', u'what', u'which', u'who', u'whom', u'this', u'that', u'these', u'those', u'am', u'is', u'are', u'was', u'were', u'be', u'been', u'being', u'have', u'has', u'had', u'having', u'do', u'does', u'did', u'doing', u'a', u'an', u'the', u'and', u'but', u'if', u'or', u'because', u'as', u'until', u'while', u'of', u'at', u'by', u'for', u'with', u'about', u'against', u'between', u'into', u'through', u'during', u'before', u'after', u'above', u'below', u'to', u'from', u'up', u'down', u'in', u'out', u'on', u'off', u'over', u'under', u'again', u'further', u'then', u'once', u'here', u'there', u'when', u'where', u'why', u'how', u'all', u'any', u'both', u'each', u'few', u'more', u'most', u'other', u'some', u'such', u'no', u'nor', u'not', u'only', u'own', u'same', u'so', u'than', u'too', u'very', u's', u't', u'can', u'will', u'just', u'don', u'should', u'now', u'd', u'll', u'm', u'o', u're', u've', u'y', u'ain', u'aren', u'couldn', u'didn', u'doesn', u'hadn', u'hasn', u'haven', u'isn', u'ma', u'mightn', u'mustn', u'needn', u'shan', u'shouldn', u'wasn', u'weren', u'won', u'wouldn']\n"
     ]
    }
   ],
   "source": [
    "print nltk.corpus.stopwords.words('english')"
   ]
  },
  {
   "cell_type": "code",
   "execution_count": 11,
   "metadata": {
    "collapsed": false
   },
   "outputs": [],
   "source": [
    "sampled_df = data.sample(17000)"
   ]
  },
  {
   "cell_type": "code",
   "execution_count": 12,
   "metadata": {
    "collapsed": false
   },
   "outputs": [
    {
     "data": {
      "text/plain": [
       "(11804, (17000, 5))"
      ]
     },
     "execution_count": 12,
     "metadata": {},
     "output_type": "execute_result"
    }
   ],
   "source": [
    "sampled_df['title'].nunique(), sampled_df.shape"
   ]
  },
  {
   "cell_type": "code",
   "execution_count": 13,
   "metadata": {
    "collapsed": false
   },
   "outputs": [],
   "source": [
    "tv = TfidfVectorizer(ngram_range=(1,3), max_df=0.8, min_df=5, \n",
    "                     stop_words=nltk.corpus.stopwords.words('english'), \n",
    "                     token_pattern=u'(?u)\\\\b\\\\w\\\\w\\\\w+\\\\b')\n",
    "\n",
    "fitted_df = tv.fit_transform(sampled_df['combined_field'])"
   ]
  },
  {
   "cell_type": "code",
   "execution_count": 14,
   "metadata": {
    "collapsed": false
   },
   "outputs": [
    {
     "data": {
      "text/html": [
       "<div>\n",
       "<style>\n",
       "    .dataframe thead tr:only-child th {\n",
       "        text-align: right;\n",
       "    }\n",
       "\n",
       "    .dataframe thead th {\n",
       "        text-align: left;\n",
       "    }\n",
       "\n",
       "    .dataframe tbody tr th {\n",
       "        vertical-align: top;\n",
       "    }\n",
       "</style>\n",
       "<table border=\"1\" class=\"dataframe\">\n",
       "  <thead>\n",
       "    <tr style=\"text-align: right;\">\n",
       "      <th></th>\n",
       "      <th>Count</th>\n",
       "    </tr>\n",
       "  </thead>\n",
       "  <tbody>\n",
       "    <tr>\n",
       "      <th>sales</th>\n",
       "      <td>242.193136</td>\n",
       "    </tr>\n",
       "    <tr>\n",
       "      <th>manager</th>\n",
       "      <td>217.778444</td>\n",
       "    </tr>\n",
       "    <tr>\n",
       "      <th>customer</th>\n",
       "      <td>211.590242</td>\n",
       "    </tr>\n",
       "    <tr>\n",
       "      <th>service</th>\n",
       "      <td>201.424843</td>\n",
       "    </tr>\n",
       "    <tr>\n",
       "      <th>management</th>\n",
       "      <td>197.829684</td>\n",
       "    </tr>\n",
       "    <tr>\n",
       "      <th>business</th>\n",
       "      <td>175.999493</td>\n",
       "    </tr>\n",
       "    <tr>\n",
       "      <th>team</th>\n",
       "      <td>169.899153</td>\n",
       "    </tr>\n",
       "    <tr>\n",
       "      <th>new</th>\n",
       "      <td>162.817021</td>\n",
       "    </tr>\n",
       "    <tr>\n",
       "      <th>development</th>\n",
       "      <td>161.534070</td>\n",
       "    </tr>\n",
       "    <tr>\n",
       "      <th>project</th>\n",
       "      <td>159.593266</td>\n",
       "    </tr>\n",
       "  </tbody>\n",
       "</table>\n",
       "</div>"
      ],
      "text/plain": [
       "                  Count\n",
       "sales        242.193136\n",
       "manager      217.778444\n",
       "customer     211.590242\n",
       "service      201.424843\n",
       "management   197.829684\n",
       "business     175.999493\n",
       "team         169.899153\n",
       "new          162.817021\n",
       "development  161.534070\n",
       "project      159.593266"
      ]
     },
     "execution_count": 14,
     "metadata": {},
     "output_type": "execute_result"
    }
   ],
   "source": [
    "token_name = tv.get_feature_names()\n",
    "token_count = fitted_df.sum(axis=0)\n",
    "new_df = pd.DataFrame(token_count.T, index=token_name, columns=['Count'])\n",
    "new_df.sort_values('Count', ascending=False)[:10]"
   ]
  },
  {
   "cell_type": "markdown",
   "metadata": {},
   "source": [
    "### visualization"
   ]
  },
  {
   "cell_type": "code",
   "execution_count": 15,
   "metadata": {
    "collapsed": false
   },
   "outputs": [
    {
     "data": {
      "text/plain": [
       "<matplotlib.text.Text at 0x133ab2750>"
      ]
     },
     "execution_count": 15,
     "metadata": {},
     "output_type": "execute_result"
    },
    {
     "data": {
      "image/png": "[encoded data removed]",
      "text/plain": [
       "<matplotlib.figure.Figure at 0x113a4dbd0>"
      ]
     },
     "metadata": {},
     "output_type": "display_data"
    }
   ],
   "source": [
    "plt.figure(figsize=(10,6))\n",
    "new_df.sort_values('Count', ascending=False)['Count'].head(50).plot(kind='bar')\n",
    "plt.title('Title + Summary Count Distribution', fontsize=15)"
   ]
  },
  {
   "cell_type": "code",
   "execution_count": 16,
   "metadata": {
    "collapsed": false
   },
   "outputs": [
    {
     "data": {
      "text/plain": [
       "<matplotlib.text.Text at 0x124b9b2d0>"
      ]
     },
     "execution_count": 16,
     "metadata": {},
     "output_type": "execute_result"
    },
    {
     "data": {
      "image/png": "[encoded data removed]",
      "text/plain": [
       "<matplotlib.figure.Figure at 0x1199085d0>"
      ]
     },
     "metadata": {},
     "output_type": "display_data"
    }
   ],
   "source": [
    "plt.figure(figsize=(10,6))\n",
    "new_df.sort_values('Count', ascending=False)['Count'].tail(50).plot(kind='bar')\n",
    "plt.title('Title + Summary Count Distribution', fontsize=15)"
   ]
  },
  {
   "cell_type": "code",
   "execution_count": 17,
   "metadata": {
    "collapsed": false
   },
   "outputs": [
    {
     "data": {
      "text/plain": [
       "((17000, 5), 11804)"
      ]
     },
     "execution_count": 17,
     "metadata": {},
     "output_type": "execute_result"
    }
   ],
   "source": [
    "sampled_df.shape, sampled_df['title'].nunique()"
   ]
  },
  {
   "cell_type": "code",
   "execution_count": 18,
   "metadata": {
    "collapsed": false
   },
   "outputs": [],
   "source": [
    "sampled_df.reset_index(drop=True, inplace=True)"
   ]
  },
  {
   "cell_type": "markdown",
   "metadata": {},
   "source": [
    "### restart: combine the summaries and titles belonging to the same title"
   ]
  },
  {
   "cell_type": "code",
   "execution_count": 19,
   "metadata": {
    "collapsed": false
   },
   "outputs": [],
   "source": [
    "combined_df = sampled_df.groupby(['title'])['combined_field'].apply(lambda x: ' '.join(list(x)))"
   ]
  },
  {
   "cell_type": "code",
   "execution_count": 20,
   "metadata": {
    "collapsed": false
   },
   "outputs": [],
   "source": [
    "combined_df = combined_df.reset_index()"
   ]
  },
  {
   "cell_type": "code",
   "execution_count": 21,
   "metadata": {
    "collapsed": false
   },
   "outputs": [
    {
     "data": {
      "text/plain": [
       "31010"
      ]
     },
     "execution_count": 21,
     "metadata": {},
     "output_type": "execute_result"
    }
   ],
   "source": [
    "len(combined_df[combined_df['title']=='software engineer']['combined_field'].values[0])"
   ]
  },
  {
   "cell_type": "code",
   "execution_count": 22,
   "metadata": {
    "collapsed": false
   },
   "outputs": [],
   "source": [
    "tv = TfidfVectorizer(ngram_range=(1,3), max_df=0.8, min_df=5, \n",
    "                     stop_words=nltk.corpus.stopwords.words('english'), \n",
    "                     token_pattern=u'(?u)\\\\b\\\\w\\\\w\\\\w+\\\\b')\n",
    "\n",
    "fitted_df = tv.fit_transform(combined_df['combined_field'])"
   ]
  },
  {
   "cell_type": "code",
   "execution_count": 23,
   "metadata": {
    "collapsed": false
   },
   "outputs": [
    {
     "data": {
      "text/html": [
       "<div>\n",
       "<style>\n",
       "    .dataframe thead tr:only-child th {\n",
       "        text-align: right;\n",
       "    }\n",
       "\n",
       "    .dataframe thead th {\n",
       "        text-align: left;\n",
       "    }\n",
       "\n",
       "    .dataframe tbody tr th {\n",
       "        vertical-align: top;\n",
       "    }\n",
       "</style>\n",
       "<table border=\"1\" class=\"dataframe\">\n",
       "  <thead>\n",
       "    <tr style=\"text-align: right;\">\n",
       "      <th></th>\n",
       "      <th>Count</th>\n",
       "    </tr>\n",
       "  </thead>\n",
       "  <tbody>\n",
       "    <tr>\n",
       "      <th>sales</th>\n",
       "      <td>164.420414</td>\n",
       "    </tr>\n",
       "    <tr>\n",
       "      <th>management</th>\n",
       "      <td>152.778889</td>\n",
       "    </tr>\n",
       "    <tr>\n",
       "      <th>manager</th>\n",
       "      <td>147.103533</td>\n",
       "    </tr>\n",
       "    <tr>\n",
       "      <th>customer</th>\n",
       "      <td>138.632675</td>\n",
       "    </tr>\n",
       "    <tr>\n",
       "      <th>service</th>\n",
       "      <td>136.934576</td>\n",
       "    </tr>\n",
       "    <tr>\n",
       "      <th>team</th>\n",
       "      <td>129.294504</td>\n",
       "    </tr>\n",
       "    <tr>\n",
       "      <th>business</th>\n",
       "      <td>128.661492</td>\n",
       "    </tr>\n",
       "    <tr>\n",
       "      <th>development</th>\n",
       "      <td>120.993134</td>\n",
       "    </tr>\n",
       "    <tr>\n",
       "      <th>new</th>\n",
       "      <td>119.728092</td>\n",
       "    </tr>\n",
       "    <tr>\n",
       "      <th>project</th>\n",
       "      <td>114.104859</td>\n",
       "    </tr>\n",
       "  </tbody>\n",
       "</table>\n",
       "</div>"
      ],
      "text/plain": [
       "                  Count\n",
       "sales        164.420414\n",
       "management   152.778889\n",
       "manager      147.103533\n",
       "customer     138.632675\n",
       "service      136.934576\n",
       "team         129.294504\n",
       "business     128.661492\n",
       "development  120.993134\n",
       "new          119.728092\n",
       "project      114.104859"
      ]
     },
     "execution_count": 23,
     "metadata": {},
     "output_type": "execute_result"
    }
   ],
   "source": [
    "token_name = tv.get_feature_names()\n",
    "token_count = fitted_df.sum(axis=0)\n",
    "new_df = pd.DataFrame(token_count.T, index=token_name, columns=['Count'])\n",
    "new_df.sort_values('Count', ascending=False)[:10]"
   ]
  },
  {
   "cell_type": "markdown",
   "metadata": {},
   "source": [
    "### similarity detection"
   ]
  },
  {
   "cell_type": "markdown",
   "metadata": {},
   "source": [
    "** option 1: using orginal title + summary **"
   ]
  },
  {
   "cell_type": "code",
   "execution_count": 24,
   "metadata": {
    "collapsed": false
   },
   "outputs": [
    {
     "data": {
      "text/plain": [
       "'software engineer developed point of sale pos software for major retailers'"
      ]
     },
     "execution_count": 24,
     "metadata": {},
     "output_type": "execute_result"
    }
   ],
   "source": [
    "sampled_df[sampled_df['title']=='software engineer'].iloc[5]['combined_field']"
   ]
  },
  {
   "cell_type": "code",
   "execution_count": 25,
   "metadata": {
    "collapsed": true
   },
   "outputs": [],
   "source": [
    "input_string = sampled_df[sampled_df['title']=='software engineer'].iloc[5]['combined_field']"
   ]
  },
  {
   "cell_type": "markdown",
   "metadata": {},
   "source": [
    "** option 2: using combined title + summary **"
   ]
  },
  {
   "cell_type": "code",
   "execution_count": 26,
   "metadata": {
    "collapsed": false
   },
   "outputs": [],
   "source": [
    "input_string = combined_df[combined_df['title']=='software engineer'].iloc[0]['combined_field']"
   ]
  },
  {
   "cell_type": "code",
   "execution_count": 27,
   "metadata": {
    "collapsed": false
   },
   "outputs": [
    {
     "name": "stdout",
     "output_type": "stream",
     "text": [
      "software engineer develop video capturing module as activex control to capture the videoimage from ultrsound system\n",
      " responsible for develop image processing modules for the dicom image\n",
      " createconvert jpeg and other image format into dicom image\n",
      " responsible for develop the medical software test and deploymentinstallation at client place for the ultrasound machine software engineer working as a data stage etl code developer and on teradata query developer software engineer roles and responsibilities \n",
      " \n",
      "  responsible to develop software tools and release them to http developernokiacom and forumnokiacom which are used by 3rd party developers and operators for mobile application development on nokia platforms\n",
      "  responsible to implement many features of forum nokia developer website using c aspnet mvc microsoft sql server unity linq adonet entityfw wcf\n",
      "  responsible for implementing nokia sdk for installer application which is available as a public tool at httpwwwdevelopernokiacomdevelopseries40\n",
      "  responsible for developing mobile phone simulation tools software components for sdk s using c aspnet  wcfmicrosoft sql server entity framework  adonet linq  tools are available at httpwwwdevelopernokiacomdeveloptools\n",
      "  responsible to manage synergy configuration management version control system tool and build system for series40 software \n",
      "  developed the installer package for the nokia sdk using the install shield tool and customized the skin of the installer using the skin customization tool\n",
      "  implemented the graphical user interface for a feature called inapp billing for nokia from scratch software engineer i have worked here as software engineer and was part of tekelecs eagle team which was part of wc bu tekelecs eagle is stp in ss protocol have taken active participation in stabilisin ipsm module used for remote logging into the stp via telnetssh connections and also used as the medium to transfer data files to and from stp using ftpsftp software engineer acquired by facebook software engineer developed point of sale pos software for major retailers software engineer wanting to move from internal tools to a shipping product i was persuaded that test was a good place to start working from the spec documents for new features in websphere mq i wrote automated tests for both the jms and proprietary java interfaces in particular i wrote all the tests for the java interface to the new publishsubscribe features in mq v7 and in the process had some small influence in the design of those apis though not as much as i wanted to have as an aside i wrote a swing frontend to a particularly complex reporting process which was enthusiastically taken up by my colleagues saving them hours of work\n",
      " \n",
      " while in this team i also participated in some corporate quotgivebackquot creating with a colleague a pair of powerstation control room simulators for visiting schoolchildren building this impressive contraption required the rapid acquisition of knowledge about pic microcontrollers each machine used 7 of them the usb and i2c protocols and java video apis  and a great deal of soldering software engineer  lead architect and developer of boy a large scale control system gui ide which has been used in more than 20 scientific projects including the worlds largest scientific project iter\n",
      "  lead architect and developer of webopi which aims to run gui developed from boy in web browser\n",
      "  lead architect and developer of webpda which is a protocol to access process data based on websocket\n",
      "  eclipse committer\n",
      "  core committer of control system studio css \n",
      "  earned  distinguished contribution  rating in 2011 performance review which is given only to the top 10 of staff at ornl software engineer the fico debt manager solution increases the capacity and performance of collection and recovery operations by intelligently automating processes across the entire distressed debt cycle access enhanced agency management capabilities and leverage more than 1300 networked agencies data sources and service providers with unmatched ease visibility and control new features in version 8 give you more power to resolve delinquencies with good customers earlier and increase collections performance through adding ficos industryleading analytics to your collections strategies without it assistance software engineer he has developed applications in real estate management for technical service and human resources in this context he completed the following activities\n",
      "   needs analysis\n",
      "   propose solutions to management\n",
      "   model databases hyperfile developed for each application\n",
      "   develop various management applications to facilitate access to information\n",
      "   evaluation management collection arrears\n",
      "   management of employees to human resources\n",
      "   rental and sale\n",
      "   no analysts tender situations price revision and monitoring progress on the market\n",
      "   develop an application for electronic archiving of paper documents decisions leases etc and computer files\n",
      "   migrate access databases and excel database hyperfile\n",
      "   ensure the safety security and centralization of data\n",
      "   provide support to users\n",
      "   maintain the hardware installing software configuring hardware data backup and protection system\n",
      "   administer the lan and the internet company windows nt\n",
      " environment windev 41 sql visual basic vba hyperfile clipper 53 dbase3 access windows 95 98 2000 et nt software engineer developed code for multiple areas of mycommerces global cloud commerce solution including vendor and affiliate control panels and numerous configurable storefronts also developed several features that automated important tasks for our internal users n n technical tools included perl nodejs angularjs template toolkit dust jquery htmlcss putty vim git joomla and oracle database software engineer i am a fulltime software developer in tplinks soho router team our team builds the world bestselling soho routers i am responsible for 80211n wds wps and wifi configuration modules the router software is written in c programming language and runs on vxworks \n",
      " i am familiar with network protocolsesp 80211n and tcpip and network sniffer toolsomnipeek and wireshark i have gained experience of reading largescale system level code and adding new features into it software engineer  design programming logic from verbal and written specificationsn  integrate software using mvc codeigniter framework and font awesomen  use uptotheminute modern web standards data science and analysis software engineer project management and technical development software engineer i worked on an enterprise document management solution using c java and c my work focused on improvements to the native windows client ui extending our packaged html form product and implementing the department of defense specification 5015 involving document lifecycle management and i occasionally moved the kegerator from the first floor to the second software engineer group leader of about 10 development engineers\n",
      " \n",
      " performed a variety of responsibilities related to the development of the embedded systems such as team leading specification design programming debugging and testing as a team leader\n",
      " \n",
      " selected projects are\n",
      "   developed embedded software systems utilizing sip in c language\n",
      "   developed an embedded software system utilizing ipsec in c language software engineer software engineer  systems support 1991  1993\n",
      "   responsible for maintaining the online system software most coding done in ibm assembler or pascal\n",
      "   responsible for handling problems with the editing system software urbana amp gpe most coding involved c and unix shell scripting\n",
      "   reviewed many new services before accepting turnover for production support\n",
      "   provided 24x7 support for applications that i was most familiar with along with 24x7 support on a rotating basis for online system problems\n",
      " \n",
      " basic software engineer   database maintenance and reliability 1989  1991\n",
      "   responsible for maintaining source code for all data collection and conversion systems most coding involved using pli and jcl\n",
      "   provided 24x7 support for applications on a rotating basis with the rest of the team\n",
      "   reviewed new products before allowing their release to production environment software engineer plc programming vbnet cnet monodevelop html linux electrical design and control software engineer development in openstack an open source software for creating public and private clouds software engineer i worked as a developer integrating several major clients such as mastercard into an online payment system this required me to handle customer requests from the requirements stage all the way through to release and to provide support to both our operations and project management teams to ensure the customer was satisfied as part of my responsibilities i also performed team leadership activities when required managing a small team of engineers software engineer hungama digital media south asias largest mobile and internetbased entertainment company1 began its journey as an online promotions agency during the internet boom in 1999 10 years hence it is a complete digital entertainment mobile services and promo marketing entity today hungama mobile is the leader in the mobile entertainment and value added services vas in india\n",
      " \n",
      " hungama is the largest aggregator developer publisher and distributor of bollywood and south asian entertainment content in the world having worldwide exclusive rights to over half a million music and video titles it powers nearly 70 of all mobile digital entertainment content in india and provides the same entertainment to consumers in 33 countries with more than 145 partners across the world\n",
      " \n",
      " headquartered in mumbai hungama digital media employs over 500 employees in five countries originally launched as a brand promotions website in 1999 hungamacom is today indias largest ondemand digital entertainment storefront serving audio video and imagery to south asians across the world at hungamacom consumers can preview buy and download entertainment across all genres software engineer while at esri i worked on the spatial server implementation of the american factfinder project at the us census bureau headquarters in washington dc i worked closely with staff from oracle ibm and the us census to deploy dynamic mapping capability for the 2000 census this project was deployed on a large scale distributed processing platform from ibm software engineer user interface design and implementation for synchronizer for xenclient an enterprise management system for xenclient deployments software engineer working on globalonefleet web project software engineer applicationmultimedia software engineer win32 and palmos software engineer working on image search ranking and features software engineer member of the development team developing and designing sales compensation solutions for callidus truecomp product suite \n",
      " \n",
      "   developed tested and implemented enhancements and customizations for new and existing truecomp modules using java sql and oracle 8i in an nt environment work with external customers to define functional and technical requirements\n",
      "   evaluated solutions to integrate the truecomp product with peoplesoft 75 using xml jms and soap for future product releases other duties include software qa documentation version control and project management software engineer deacuteveloppement d outils de gestion de base de donneacutees et d interrogations de capteurs industriels pour l usine de deacutepollution de reims geacuteneacuterale des eaux\n",
      " \n",
      " langage  outils  turbo pascal delphi iii access software engineer  agile work environment\n",
      "  feature development in c for large scale ecommerce platform\n",
      "  automated build  deploy processes\n",
      "  tight collaboration between stakeholders and colleagues software engineer  performs analysis and conceptual design on complex system components and ensures designs are accurately documented and receive the appropriate stakeholder approval \n",
      "  manages integrated functionality usability reliability and performance and support requirements of a system \n",
      "  work estimation and proper resource utilization \n",
      "  analyzing the business requirements and impacts \n",
      "  coordinate with the client to design solution for attaining the business objective \n",
      "  facilitated change management from project conceptualization to testing through project delivery software development and implementation management in diverse business and technical environments \n",
      "  mentoring the team on businesstechnical issues \n",
      "  coordinating planning project tracking and status reporting throughout product development life cycle \n",
      "  enhancement of existing application integrating the application with other environment and adding new features to the existing application and ongoing maintenance of applications currently in system \n",
      "  provide solutions to business and technical issues and risks through thorough analysis and design \n",
      "  setting up of the test environment coordinate activities to migrate software releases to test staging and production environments \n",
      "  helping all the timely releases of application deploying the application software engineer robert bosch business and engineering solutions bangalore india \n",
      "  \n",
      "   interface software development to adapt renault application software to bosch device drivers and hardware in the engine control unit \n",
      "   testing on labcar \n",
      "   software design development which involved customization of the projects for different engine lines understanding product feature and requirement \n",
      "  \n",
      " bangalore mallikarjun \n",
      " projects \n",
      " title of project engine management for diesel and gasoline engines air systems management \n",
      " client rsa france \n",
      " tools used sdom easee clearquest ddt2000 xmetal codewright ude debugger can spi \n",
      "  \n",
      " brief description renault powertrain software architecture is based on ems 2010 engine management system modular software in order to provide an ems 2010 compliant platform we implement and configure the ems 2010 platform adaptation layer above boschs own basic software platform \n",
      "  \n",
      " title of project exhaust system lambda sensor 49 and 51 \n",
      " tools used ascet 62 incasdom easee clearquest ddt2000 xmetal codewright ude debugger can spi \n",
      "  \n",
      " brief description worked on cj135 and cj125 projects on both diesel and gasoline projects on lambda sensor 49 and 51 measure the proportion of oxygen in the remaining exhaust gas exhaust system is designed for reducing the norms in the environment by controlling various harmful gases not to be emitted by vehicle to spread in atmosphere the air systems management is used in controlling emission gases like nox hc and co software engineer great experience working with verizon got to learn a lot about the bussiness and technology software engineer description the main objective of this project was to address the functions such as customer servicing preparing and printing invoices followup if quotations preparing vendor orders tracking stock inventory automatic generation of reports grant for better business management job responsibilities   designed user screens using jsp and created database tables   backend coding using servlet technologies and core java software engineer  research design and develop web applications to meet marketing requirementsn  developed the companywide sales order entry system leveraging technologies such as ms access sql adobe acrobat and javascriptn  develop maritime electronic forms such as the united states coast guard notice of arrival  departure noad and other standard worldwide portship forms utilizing technologies such as adobe acrobat sql ms access and javascriptn  proven track record with assisting businesstobusiness sales n  consult with worldwide clients and inhouse application users to provide application support and gather additional requirements based on business needs n  provided project management by supervising a team of developers setting development timetables and cost estimates and meeting project deadlinesn  team with executivelevel management to present development updates discuss quality assurance issues and provide recommendations for future development efforts based on selfdriven research of new technologies software engineer ubiqtech builds info security products and has been listed 100 it innovators by nasscom products are unified threat management linux thin client wifi aaa our solutions are built on x86 intel ixp via and freescale risc processor architecture software engineer current project \n",
      " project creating prediction based game wwwforeseegamecom and facebook like application wall chat \n",
      " technology using aspnet cnet xml sql server 2008 javascript jquery \n",
      " team size 7 \n",
      "  \n",
      " project online helpdesk management system \n",
      " technology aspnet mvc 40 entity framework cnet  sql server 2008 javascript jquery \n",
      "  \n",
      " project online document management system \n",
      " technology aspnet mvc 40 entity framework cnet  sql server 2008 javascript jquery \n",
      "  \n",
      " other projects \n",
      " project application lifecycle management visual studio plugging development creating wcf to integrate other software like enterprise architect sales force crm product service now with the product kovair alm \n",
      " technology using aspnet cnet xml sql server 2008 javascript jquery \n",
      " team size 5 \n",
      "  \n",
      " project logistic management system \n",
      " technology using aspnet cnet xml sql server 2005 ssrs javascript \n",
      " team size 7 \n",
      "  \n",
      " project enterprise corporate system ecs \n",
      " technology using silverlight cnet xml sql server 2005 linq wcf \n",
      " team size 5 \n",
      "  \n",
      " project name payroll management system \n",
      " project description the different modules of this project are  employee information leave transaction attendance register processing salary and payslip generation generating pf statement  form 3a 6a 12a pf challan generating form 16 for salaried people the system is integrated with accounting system \n",
      " software used aspnet cnet sql server 2005 oracle 9i crystal report \n",
      " responsibility visit clients study and analyze the system design the system coding \n",
      " team size 2 \n",
      "  \n",
      " project name matrix erp product of matrix infosystems ltd \n",
      " project description sales purchase and construction module \n",
      " software used aspnet cnet sql server 2005 oracle 9i crystal report \n",
      " responsibility visit clients study and analyze the system design the system coding \n",
      " team size 5 \n",
      "  \n",
      " project name inventory management system \n",
      " project description the different modules of this project are  purchase issue generating purchase ledger issue register stock ledger departmental expenses \n",
      " software used aspnet cnet sql server 2005 oracle 9i crystal report \n",
      " responsibility visit clients study and analyze the system design the system coding \n",
      " team size 3 \n",
      "  \n",
      " project name student management system \n",
      " project description the different modules of this project are  student admission fees collection exam marks entry and resulting issuing different certificate character birth tc etc  fees collection module is integrated with accounting system \n",
      " software used vb6 sql server 2000 crystal report \n",
      " responsibility visit clients study and analyze the system design the system coding \n",
      " team size 4 \n",
      "  \n",
      " project name travel and tourism management system \n",
      " project description using this project a tour organization will keep record of ticket booking passenger list tour schedule vehicle detail vehicle booking etc \n",
      " software used vb6 sql server 2000 crystal report \n",
      " responsibility visit clients study and analyze the system design the system coding \n",
      " team size 2 \n",
      "  \n",
      " project name library management system \n",
      " project description the different modules of this project are  book master entry book issue book return fine calculation report generation \n",
      " software used vb6 sql server 2000 crystal report \n",
      " responsibility visit clients study and analyze the system design the system coding \n",
      " team size 1 \n",
      "  \n",
      " other information \n",
      "  \n",
      " hobby exercise music net surfing photography software engineer cg special effects software engineer developing software in mine picture compilation project for mine automation system software engineer work in a team of developers to design develop and maintain web application java applications and miscellaneous backend data management applications responsible for creating comprehensive designs and documentation work with software quality analysts to test the applications before deploying to the production environment software engineer oracle siebel crm consultant software engineer interacted with software systems engineer to understand subsystem and component specifications \n",
      "   designed and documented subsystems and system components \n",
      "   implemented and debug subsystems and components \n",
      "   wrote and execute tests for subsystems and component software engineer worked as a software developer in various microsoft technologies including net sharepoint 2001 biztalk server 2002 sql server\n",
      " worked on a major project with kpmg software engineer while i was software engineer i worked in\n",
      "  scrumpad web based agile project management tool\n",
      "  varsitydays social community website to connect playmates of graduate school in us\n",
      "  prosperityleasing us real estate industry\n",
      "  mmserver us financial industry loan services software engineer l2 software engineer for lotus notes domino working in lotus notes application development software engineer worked as web application developer involved in developing applications using classic asp aspnet c with sql server 2000 as backend db software engineer customer operations of turkish telecommunications projectn upgrade and conversion of cobol based system to a relational database platform db2n involved in design and programming of software development for customer operations of the turkish telecommunications system n developed source code on os2warp using visualage gen a fourth generation language 4gln utilized c with embedded sql for the performance requirementsn create and managed the database schema in db2 database software engineer my role as software engineer was to design amp develop applications for dialtel autodialer product and help in integrating various telephony modules software engineer i was working for sda as a automation software engineer to develop automation calibrate test and measurement equipments firmware and system software debug and system and board level test use c c vb c microchip 8051 can is232 ieee 488 software engineer as a member of the development team designed implemented and tested a product which achieved accelerated software migration from decs cisc vax to risc alpha architecture by employing binary translation and other advanced compiler techniques software engineer project name ireland guide for skan dbydx india\n",
      " \n",
      " my responsibilities\n",
      "  designed the architecture of application in modular approach  used mvc to make application robust\n",
      "  implemented the application for the 3rd generation nokia mobile devices\n",
      "  operating system windows xp language carbide c and c tools nokia mobile developer tool kit31 amp 50\n",
      " \n",
      " project name dubmenow for skan dbydx india\n",
      " \n",
      " my responsibilities\n",
      "  designed the architecture of application in modular approach  used mvc to make application robust\n",
      "  implemented the application for the 3rd generation nokia mobile devices\n",
      "  operating system windows xp language carbide c and c tool nokia mobile developer toolkit 31 amp 50 software engineer currently now im working in a border control system in the bandarnayaka international airport im working in as software developer\n",
      " \n",
      " worked area \n",
      " 1 i have also worked with border controlled system for mauritius island\n",
      " 2 i am also worked in united motor limited as system implementation\n",
      " \n",
      " project wise working experience\n",
      " \n",
      " bandaranayaka international airport \n",
      "   at the project i worked as developer i was mainly developed oracle forms and reports for the border controlled system it s a web based system\n",
      "   i involved the converting border control system to oracle 6i to oracle 10gr2 \n",
      "   i involved the migrate to windows base application to linux base\n",
      " application\n",
      "   data migration to border to travel document side\n",
      " \n",
      " working environment \n",
      " oracle 10gr2 forms amp reports\n",
      " sql navigator\n",
      " sql developer\n",
      " samba share \n",
      " svn   tortoise svn\n",
      " communicate with the airport implementation team\n",
      " communicate with the passport office die team\n",
      " \n",
      " research amp development \n",
      "   i do the direct printing for the border control system\n",
      "   connecting the 3m passport scanner with the oracle forms\n",
      "   converting old passport imageslongraw to new passport imageblob\n",
      "   through the linux sending the net send messages to the oracle forms\n",
      " \n",
      " personal achievements \n",
      " successfully delivered the border performance analyze module to the border \n",
      " control system\n",
      " successfully deployed the direct printing to the system software engineer  took the responsibility for the whole customer technical escalations process which started source code level investigating the software defects which sun s customers reported continued to actual code changes in both next release products and the products which were in the market already and ended testing  releasing software patches\n",
      " \n",
      "  worked with the product development teams to fix software defects in the next release products and to port new software features to previously released products\n",
      " provided alternate technical solutions for external customers\n",
      " \n",
      "  developed new test suites to increase software quality\n",
      " \n",
      "  developed or revised technical documents for internal and external users\n",
      " \n",
      "  worked in the same role in both california and united kingdom\n",
      " \n",
      " among other works\n",
      "  found the root cause of a booting boot fault problem in intel x86 based diskless client systems of solaris 10 operation system\n",
      "  fixed defects in automated software updating process in solaris 10\n",
      "  led a software improvement team for java based diskless client software suite of solaris 10 took responsibilities of more than 100 software defects as team and led them to resolve\n",
      "  solved defects in java based remote system installation and administration suite\n",
      "  ported the whole secure shell suite from solaris 10 to solaris 9 and this porting resolved more than 70 software defects and the technical problems which about 20 external customers were facing\n",
      "  fixing mojibake i18n software defect in korn shell which happened in a 4000 character string\n",
      "  fixing race condition cases in libc \n",
      "  solved a complex race condition case of secure shell server of solaris 9\n",
      "  did software qualitty improvement project on system administration  package tool\n",
      "  rewrote sed unix command to support dynamic memory allocation\n",
      "  created a lab environment to support java based remote system admin suite\n",
      " \n",
      " were notifiable software engineer natural language processing in python software engineer projects worked \n",
      " 1 project name tolven \n",
      " qa on developedenhanced features and reporting the bugs in jira \n",
      " responsibilities \n",
      "   understanding the requirements \n",
      "   preparing test plan and test cases for testing the features \n",
      "   performing qa on the enhanceddevelopedfix features \n",
      "  \n",
      " 2 project name simplifymd an ehr \n",
      " simplifymd is a commercial ehr used for clinics project is to perform functionality testing and mu testing \n",
      " responsibilities \n",
      "   performed muo testing \n",
      "   performed migration acceptance testing \n",
      "   performing functionality testing \n",
      "   performing regression testing \n",
      "   leading the team by allocating tasks and reviewing the test reports and sending them to customers on weekly basis \n",
      "   experience in handling customer communications via meetings and mails software engineer roles  responsibilities \n",
      " description \n",
      " amgens enterprise business intelligence ebi team has multiyear multiphase project to establish an enterprise data warehouse edw platform and to provide selfservice reporting and analysis capability for erpsap related data as such the primary data source for the enterprise data warehouse selfservice reporting project is sap however where business need dictates data from other source like sap paris ariba and eppm systems will be brought into the edw in order to meet the analytical needs subject areas in scope for this project are finance gss operations and eppm addressed by this project \n",
      "  \n",
      " contributions \n",
      "   used etl tools informatica for extraction transformation and loading data into data warehouse \n",
      "   integrated various source into the data staging area in data warehouse for integrating and cleansing data \n",
      "   performed major role in understanding the business requirements and designing and loading data into data warehouse etl \n",
      "   used various transformations like expression filter joiner and lookup update strategy sorter router and union to clean and maintain data \n",
      "   created test scripts and involved in deployment activities \n",
      "   performance tuning and debugging of existing etl processes \n",
      "   successfully implemented slowly changing dimensions used type 2 dimension to keep the history changes \n",
      "   involved in unit and integration testing \n",
      "   prepared mapping documents \n",
      "  \n",
      " software usedinformatica power center 861 oracle 10g windows xp obiee software engineer title csm data mart \n",
      " technologies microstrategy oracle \n",
      " project description chartered semi conductor manufacturing company is one of the worlds top dedicated semi conductor manufacturing companies which provide innovative solutions for manufacturing ics that power todays consumer communications and computing products \n",
      " this project is aimed to reduce the manufacturing cost and improve the sales by identifying the key factors like the total sales revenue on a monthly and quarterly basis on the region and sales amount \n",
      " the decision support system is focused on analyzing the entire business process in order to provide critical information like daily revenue total sales goals information on employees and new plans to company for developing business intelligences system based on bos and information products \n",
      " roles and responsibilities \n",
      "   worked as a microstrategy developer responsible for creating public objects and development of reports \n",
      "   extensively used filters prompts consolidations transformations and custom groups to generate reports for business analysis \n",
      "   applying report limits subtotals thresholds banding sorting drills and olap services on reports \n",
      "   reviewing the reports after designing them with the result set of query on the backend \n",
      "   generated advanced reports in grid mode and graph mode using microstrategy desktop \n",
      "   doing performance tuning through vldb settings software engineer development of drivers for various automotive controllers software engineer technology aspnet 20  35  40 sql server 2005  2008 vbnet c javascript ms data access application block ado ms access odbc vba ms excel ms office automation software engineer i was responsible for test planning amp execution preparing test logs and summary reports logging defects and tracking defects to closure and delivering the quality product n n projects handled software engineer mainframe developer software engineer software development for project tango\n"
     ]
    }
   ],
   "source": [
    "print input_string"
   ]
  },
  {
   "cell_type": "code",
   "execution_count": 28,
   "metadata": {
    "collapsed": true
   },
   "outputs": [],
   "source": [
    "from sklearn.neighbors import NearestNeighbors"
   ]
  },
  {
   "cell_type": "code",
   "execution_count": 29,
   "metadata": {
    "collapsed": false
   },
   "outputs": [
    {
     "data": {
      "text/plain": [
       "NearestNeighbors(algorithm='brute', leaf_size=30, metric='cosine',\n",
       "         metric_params=None, n_jobs=1, n_neighbors=10, p=2, radius=1.0)"
      ]
     },
     "execution_count": 29,
     "metadata": {},
     "output_type": "execute_result"
    }
   ],
   "source": [
    "nn = NearestNeighbors(n_neighbors=10, metric='cosine', algorithm='brute')\n",
    "nn.fit(fitted_df)"
   ]
  },
  {
   "cell_type": "code",
   "execution_count": 30,
   "metadata": {
    "collapsed": false
   },
   "outputs": [],
   "source": [
    "input_vec = tv.transform([input_string])"
   ]
  },
  {
   "cell_type": "code",
   "execution_count": 31,
   "metadata": {
    "collapsed": false
   },
   "outputs": [],
   "source": [
    "dist, indices = nn.kneighbors(input_vec)"
   ]
  },
  {
   "cell_type": "code",
   "execution_count": 32,
   "metadata": {
    "collapsed": false
   },
   "outputs": [
    {
     "data": {
      "text/plain": [
       "((11804, 20042), (11804, 2))"
      ]
     },
     "execution_count": 32,
     "metadata": {},
     "output_type": "execute_result"
    }
   ],
   "source": [
    "fitted_df.shape, combined_df.shape"
   ]
  },
  {
   "cell_type": "code",
   "execution_count": 33,
   "metadata": {
    "collapsed": false
   },
   "outputs": [
    {
     "name": "stdout",
     "output_type": "stream",
     "text": [
      "\n",
      "10003                                    software engineer\n",
      "9683                              senior software engineer\n",
      "9988                                    software developer\n",
      "10212                                 sr software engineer\n",
      "10011                             software engineer intern\n",
      "7931                           principal software engineer\n",
      "9411                                      senior architect\n",
      "559                                  application developer\n",
      "10009    software engineer ii software configuration ma...\n",
      "5876                              junior software engineer\n",
      "Name: title, dtype: object\n"
     ]
    }
   ],
   "source": [
    "#print 'searching title:', input_string\n",
    "print\n",
    "\n",
    "for ind in indices:\n",
    "    #print ind\n",
    "    print combined_df.iloc[ind]['title']"
   ]
  },
  {
   "cell_type": "code",
   "execution_count": null,
   "metadata": {
    "collapsed": true
   },
   "outputs": [],
   "source": []
  }
 ],
 "metadata": {
  "kernelspec": {
   "display_name": "Python 2",
   "language": "python",
   "name": "python2"
  },
  "language_info": {
   "codemirror_mode": {
    "name": "ipython",
    "version": 2
   },
   "file_extension": ".py",
   "mimetype": "text/x-python",
   "name": "python",
   "nbconvert_exporter": "python",
   "pygments_lexer": "ipython2",
   "version": "2.7.12"
  }
 },
 "nbformat": 4,
 "nbformat_minor": 0
}
