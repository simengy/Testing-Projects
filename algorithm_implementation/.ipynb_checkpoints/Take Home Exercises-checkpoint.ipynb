{
 "cells": [
  {
   "cell_type": "markdown",
   "metadata": {},
   "source": [
    "# Problem 1: Linear Regression Implementation"
   ]
  },
  {
   "cell_type": "markdown",
   "metadata": {},
   "source": [
    "Using only Python libraries included in a standard Python install (e.g. not numpy, scipy, scikit-learn, etc.), write python function that implements a simple OLS regression. It should take an array-like object containing some number of observations of a single regressor and an array-like object containing the dependant variable values as inputs and return an array containing the slope and intercept as an output. In a Python shell (attach the output) or an IPython notebook, demonstrate your code’s functionality and compare it to an existing OLS implementation."
   ]
  },
  {
   "cell_type": "markdown",
   "metadata": {},
   "source": [
    "## 1.1 Solution to Problem 1\n",
    "\n",
    "In order to find the best fit of the linear equation:\n",
    "\n",
    "**Y = X * beta**\n",
    "\n",
    "Normal Equation is the quick way to calculate the parameters:\n",
    "\n",
    "**beta = (X'X)^(-1) \\* X' \\* Y**\n",
    "\n",
    "where **beta'** = (intercept b0, slope b1, slope b2), and column vectors of **X** = (1, x1, x2, x3).\n",
    "\n",
    "Since there is no matrix inverse function in the standard Python install, I use **Gradient Descent** to find the optimal coef beta.\n",
    "\n",
    "The sample data here has only one feature. In principle we can apply the OLS algorithm to the regression problems with multiple features."
   ]
  },
  {
   "cell_type": "code",
   "execution_count": 1,
   "metadata": {
    "collapsed": false
   },
   "outputs": [],
   "source": [
    "%matplotlib inline \n",
    "\n",
    "import csv\n",
    "import copy\n",
    "from matplotlib import pyplot as plt"
   ]
  },
  {
   "cell_type": "code",
   "execution_count": 2,
   "metadata": {
    "collapsed": false
   },
   "outputs": [],
   "source": [
    "def loadCSV(filename): \n",
    "    dataset = []\n",
    "    with open(filename, 'rb') as csvfile:\n",
    "        reader = csv.reader(csvfile, delimiter=',', quotechar='|')\n",
    "\n",
    "        for row in reader:    \n",
    "            dataset.append(map(float, row))\n",
    "        \n",
    "    return dataset\n"
   ]
  },
  {
   "cell_type": "code",
   "execution_count": 3,
   "metadata": {
    "collapsed": true
   },
   "outputs": [],
   "source": [
    "def dot_product(vec1, vec2):\n",
    "    assert len(vec1) == len(vec2), 'The size of two vectors does not match!'\n",
    "    \n",
    "    prod = 0.0\n",
    "    for i in xrange(len(vec1)):\n",
    "        prod += vec1[i] * vec2[i]\n",
    "        \n",
    "    return prod\n"
   ]
  },
  {
   "cell_type": "code",
   "execution_count": 4,
   "metadata": {
    "collapsed": false
   },
   "outputs": [],
   "source": [
    "def linear_regression(x_, y_, alpha=0.1, iters=10):\n",
    "    # adding the the dummy column vector with all '1' which is for the intercept fit\n",
    "    for i in xrange(len(x_)):\n",
    "        x_[i].append(1.0)\n",
    "    \n",
    "    # define the data size: M -- sample size, N -- feature size\n",
    "    M = len(x_)\n",
    "    N = len(x_[0])\n",
    "    \n",
    "    # initialize OLS coefs as '0'\n",
    "    beta = [0.0] * N\n",
    "    \n",
    "    def gradient_updates(beta_):\n",
    "\n",
    "        for j in xrange(N):\n",
    "\n",
    "            sum_gradient = 0.0\n",
    "\n",
    "            for i in xrange(M):\n",
    "                sum_gradient += (dot_product(beta_, x_[i]) - y_[i][0]) * x_[i][j] \n",
    "            beta_[j] = beta_[j] - alpha / float(M) * sum_gradient\n",
    "\n",
    "        return beta_\n",
    "    \n",
    "    for it in xrange(iters):\n",
    "        beta = gradient_updates(beta[:])\n",
    "        \n",
    "        if it%500==0:\n",
    "            print 'Iteration = {}:'.format(it), beta\n",
    "    \n",
    "    return beta"
   ]
  },
  {
   "cell_type": "code",
   "execution_count": 5,
   "metadata": {
    "collapsed": true
   },
   "outputs": [],
   "source": [
    "def lr_predict(coef, vector):\n",
    "    if type(vector) == float or type(vector) == int:\n",
    "        vector = list([vector])\n",
    "    \n",
    "    vector.append(1.0)\n",
    "    \n",
    "    return dot_product(coef, vector)"
   ]
  },
  {
   "cell_type": "code",
   "execution_count": 6,
   "metadata": {
    "collapsed": false
   },
   "outputs": [
    {
     "name": "stdout",
     "output_type": "stream",
     "text": [
      "Iteration = 0: [0.21715524143303216, -0.00017973622770281087]\n",
      "Iteration = 500: [0.07955983965889724, 0.6639983388835929]\n",
      "Iteration = 1000: [0.06568223329564456, 0.7402645356814631]\n",
      "Iteration = 1500: [0.06408806113250035, 0.7490255168436025]\n",
      "Iteration = 2000: [0.06390493265780359, 0.7500319232745775]\n",
      "Iteration = 2500: [0.0638838960100561, 0.7501475329175579]\n",
      "Iteration = 3000: [0.06388147945223141, 0.7501608134264444]\n",
      "Iteration = 3500: [0.06388120185326285, 0.7501623390078027]\n",
      "Iteration = 4000: [0.06388116996443878, 0.750162514256997]\n",
      "Iteration = 4500: [0.06388116630125099, 0.7501625343885235]\n",
      "\n",
      "Linear Regression model fitted coefs:\n",
      "slope = [0.0638811658806839]\n",
      "intercept = 0.7501625367\n"
     ]
    }
   ],
   "source": [
    "# main\n",
    "x = loadCSV('/Users/syan/Desktop/Document/ex2Data/ex2x.dat')\n",
    "y = loadCSV('/Users/syan/Desktop/Document/ex2Data/ex2y.dat')\n",
    "\n",
    "# learning rate\n",
    "learning_rate = 0.04\n",
    "\n",
    "# total iteration round\n",
    "rounds = 5000\n",
    "\n",
    "lr_coef = linear_regression(copy.deepcopy(x), copy.deepcopy(y), alpha=learning_rate, iters=rounds)\n",
    "\n",
    "print\n",
    "print 'Linear Regression model fitted coefs:'\n",
    "print 'slope =', lr_coef[:-1]\n",
    "print 'intercept =', lr_coef[-1]"
   ]
  },
  {
   "cell_type": "markdown",
   "metadata": {},
   "source": [
    "## 1.2 Sanity Check -- SKlearn LinearRegression\n",
    "\n",
    "The slope and intecept of the OLS implementation match those of SKlearn Linear Regression."
   ]
  },
  {
   "cell_type": "code",
   "execution_count": 7,
   "metadata": {
    "collapsed": false
   },
   "outputs": [
    {
     "name": "stdout",
     "output_type": "stream",
     "text": [
      "SKlearn Linear Regression model fitted coefs:\n",
      "slope = [[ 0.06388117]]\n",
      "intercept = [ 0.75016254]\n"
     ]
    }
   ],
   "source": [
    "import pandas as pd\n",
    "from sklearn.linear_model import LinearRegression\n",
    "\n",
    "x_pd = pd.DataFrame(x, columns=['x'])\n",
    "y_pd = pd.DataFrame(y, columns=['label'])\n",
    "\n",
    "lr = LinearRegression()\n",
    "lr.fit(x_pd , y_pd)\n",
    "\n",
    "print 'SKlearn Linear Regression model fitted coefs:'\n",
    "print 'slope =', lr.coef_\n",
    "print 'intercept =', lr.intercept_"
   ]
  },
  {
   "cell_type": "markdown",
   "metadata": {},
   "source": [
    "## 1.3 Visualize the fitting results"
   ]
  },
  {
   "cell_type": "code",
   "execution_count": 8,
   "metadata": {
    "collapsed": false
   },
   "outputs": [
    {
     "data": {
      "image/png": "[encoded data removed]",
      "text/plain": [
       "<matplotlib.figure.Figure at 0x10b606c50>"
      ]
     },
     "metadata": {},
     "output_type": "display_data"
    }
   ],
   "source": [
    "plt.figure(figsize=(8,6))\n",
    "\n",
    "plt.scatter(x_pd, y_pd, color='blue', s=30)\n",
    "plt.plot([x_pd['x'].min(), x_pd['x'].max()], \n",
    "         [y_pd['label'].min(), y_pd['label'].max()], \n",
    "         '--', lw=3, color='green', label='Min to Max')\n",
    "\n",
    "plt.plot([x_pd['x'].min(), x_pd['x'].max()], \n",
    "         [lr_predict(lr_coef, x_pd['x'].min()), lr_predict(lr_coef, x_pd['x'].max())], \n",
    "         'k-', lw=3, color='red', label='Fitted')\n",
    "\n",
    "plt.title('Fitted Regression Line', y=1.02, fontsize=15)\n",
    "plt.xlabel('Feature X', fontsize=12)\n",
    "plt.ylabel('Label Y', fontsize=12)\n",
    "plt.legend(fontsize=15, loc='best')\n",
    "plt.show()"
   ]
  },
  {
   "cell_type": "markdown",
   "metadata": {},
   "source": [
    "# Problem 2: Gaussian Naive Baysian Classifier"
   ]
  },
  {
   "cell_type": "markdown",
   "metadata": {},
   "source": [
    "Write a Python class that implements Naive Bayes Classification using a simple gaussian likelihood function. It should conform to the specification provided below. In addition to implementing the class, you should demonstrate this functionality in a Python shell (attach the output) or IPython notebook - a good test dataset for classification is the Pima Indian Diabetes dataset (accessible for free at multiple sites):\n",
    "\n",
    "    a. A new classifier can be instantiated with the function call NaiveBayes(some_data_file.csv), where some_data_file.csv is formatted as feature_1, feature_2, ... , feature_N, category and contains the initial set of observations to classify on. You can assume the features are all floating point numbers and the categories are integers.\n",
    "    \n",
    "    b. it has a method called predict which takes an array of length N (where N is the number of features) and returns the most likely output category.\n",
    "    \n",
    "    c. it has a method called observe which takes two parameters; an array of length N and an integer category. This method should add this data to the classifier and revise its future predictions."
   ]
  },
  {
   "cell_type": "markdown",
   "metadata": {},
   "source": [
    "## 2.1 Solution to Problem 2\n",
    "\n",
    "Supposed we have the data with N samples, and the class labels Y having k classes {class 0, class 1,..., class k}. Each sample data belongs to one of the classes. The data can be described by the feature matrix X:\n",
    "\n",
    "**X = {X_1, X_2, X_3, ...., X_k}**\n",
    "\n",
    "where x_i is the column vectors, k is the total number of the features.\n",
    "\n",
    "Bayers' theorem can be expressed as following: \n",
    "\n",
    "**P(Y|X) = P(X|Y) * P(Y) / P(X)**\n",
    "\n",
    "where P(Y|X) is the posterior, P(X|Y) is called the event model that is Gaussian Distribution in our case, and P(Y) = prior probability of the classes. P(X) does not depend on class Y, and thus is constatnt.\n",
    "\n",
    "Naive Bayer Assumption means the conditional independence:\n",
    "\n",
    "**P(X|Y) = P(X_1, X_2, X_3,..., X_k|y) = P(X_1|Y) \\* P(X_2|Y) \\* ..... \\* P(X_k|Y)**\n",
    "\n",
    "We are going to solve the optimization problem below:\n",
    "\n",
    "**Y_estimate = argmax P(Y) \\* P(parameters, X_1|Y) \\* P(parameters, X_2|Y) \\* ..... \\* P(parameters, X_k|Y)**\n",
    "\n",
    "where the parameters are the mean and variances of the Gaussian Distributions for all features X. \n",
    "\n",
    "The optimal paramters are the sample means and variances of the each features with respect to **Maximum Likelihood Estimation**. Please refer to wikepedia for more information:\n",
    "\n",
    "https://en.wikipedia.org/wiki/Naive_Bayes_classifier"
   ]
  },
  {
   "cell_type": "markdown",
   "metadata": {},
   "source": [
    "### 2.1.1 Remark 1 --- function \"observe\" \n",
    "    \n",
    "It can be considered as an online learning function: once the new data appear in production, we are going to re-train the Naive Bayes model to learn the latest information. In fact, there are two alternatives to do this:\n",
    "\n",
    "**Method 1:** Append the new data to the old ones and trigger the training procedure\n",
    "\n",
    "**Method 2:** Update the means and variances of each features belonging to each category\n",
    "\n",
    "Method 2 updates the new mean and variance of each class in the following way:\n",
    "\n",
    "**total_mu = (N_new \\* new_mu + N_old \\* old_mu) / (N_new + N_old)**\n",
    "\n",
    "**total_ssd = old_ssd + new_ssd + N_old / (N_new \\* N_total) \\* (N_new \\* mu - N_new \\* new_mu)^2**\n",
    "\n",
    "**total_sigma^2 = total_ssd / N_total**\n",
    "\n",
    "where mu --- sample mean, sigma^2 --- sample variance, ssd --- sample size N * sigma^2 and N_total = N_new + N_old.\n",
    "\n",
    "The problem set says that the method 'observe' is supposed to take two parameters: one data array and its class label. Only Method 2 is able to satisfiy this requirement while Method 1 has to load the previous data. Also from the computaional cost's point, Method 2 doesn't re-compute the statistical values of the old data, and thus is superior to Mehtod 1."
   ]
  },
  {
   "cell_type": "markdown",
   "metadata": {},
   "source": [
    "### 2.1.2 Remark 2 --- Pima Indians Diabetes Data\n",
    "\n",
    "The data are downloaded from UCI Machine Learning Repository:\n",
    "\n",
    "https://archive.ics.uci.edu/ml/datasets/Pima+Indians+Diabetes\n",
    "\n",
    "The webpage describes the data attributes as following:\n",
    "\n",
    "1. Number of times pregnant \n",
    "2. Plasma glucose concentration a 2 hours in an oral glucose tolerance test \n",
    "3. Diastolic blood pressure (mm Hg) \n",
    "4. Triceps skin fold thickness (mm) \n",
    "5. 2-Hour serum insulin (mu U/ml) \n",
    "6. Body mass index (weight in kg/(height in m)^2) \n",
    "7. Diabetes pedigree function \n",
    "8. Age (years) \n",
    "9. Class variable (0 or 1) \n",
    "\n",
    "\n",
    "There are known data quality issues, such as the blood pressure = 0. Due to time constraint, I use the orginal data for model training and testing. To assign the column means to those zero values can be a quick fix."
   ]
  },
  {
   "cell_type": "code",
   "execution_count": 9,
   "metadata": {
    "collapsed": false
   },
   "outputs": [],
   "source": [
    "import math\n",
    "import random\n",
    "import copy\n",
    "\n",
    "Debug=False\n",
    "\n",
    "class NaiveBayes:\n",
    "    \n",
    "    def __init__(self, filename):  \n",
    "        self.filename = filename\n",
    "        self._model = {}\n",
    "        self.prior = {}\n",
    "        self.trainSize = {}\n",
    "    \n",
    "    \n",
    "    def mean(self, vector):\n",
    "        return sum(vector)/float(len(vector))\n",
    "    \n",
    "    \n",
    "    def stdev(self, vector):\n",
    "        average = self.mean(vector)\n",
    "        variance = sum([pow(x-average, 2) for x in vector])/float(len(vector)-1)\n",
    "        \n",
    "        return math.sqrt(variance)   \n",
    "    \n",
    "        \n",
    "    def gaussianDistribution(self, x, mean, stdev):      \n",
    "        exponent = math.exp( -(math.pow(x-mean, 2) / (2*math.pow(stdev, 2))) )\n",
    "        return (1.0 / (math.sqrt(2 * math.pi) * stdev)) * exponent \n",
    "    \n",
    "    \n",
    "    def loadCSV(self):\n",
    "        dataset = []\n",
    "        \n",
    "        with open(self.filename, 'rb') as csvfile:\n",
    "            reader = csv.reader(csvfile, delimiter=',', quotechar='|')\n",
    "\n",
    "            for row in reader:    \n",
    "                dataset.append(map(float, row))\n",
    "                \n",
    "        return dataset\n",
    "                \n",
    "    \n",
    "    def trainTestSplit(self, dataset, sampleRate=0.7):\n",
    "        if sampleRate > 1.0:\n",
    "            sampleRate = 1.0\n",
    "        \n",
    "        try:\n",
    "            self.trainSize = int(len(dataset) * sampleRate)\n",
    "        except:\n",
    "            raise TypeError('The input data should be in the format of a list of list!')\n",
    "            \n",
    "        trainSet = []\n",
    "        testSet = copy.deepcopy(dataset)\n",
    "        \n",
    "        while len(trainSet) < self.trainSize:\n",
    "            index = random.randrange(len(testSet))\n",
    "            trainSet.append(testSet.pop(index))\n",
    "        \n",
    "        return [trainSet, testSet]\n",
    "    \n",
    "    \n",
    "    def priorProbability(self, inputData):   \n",
    "        N = len(inputData)\n",
    "        categoryCount = {}\n",
    "          \n",
    "        for i in range(N):\n",
    "            vector = inputData[i]\n",
    "            \n",
    "            if (vector[-1] not in categoryCount):\n",
    "                categoryCount[vector[-1]] = 1.0\n",
    "            else:\n",
    "                categoryCount[vector[-1]] += 1.0\n",
    "        \n",
    "        # calcualate the prior probability for each category label\n",
    "        for key in categoryCount.keys():\n",
    "            self.prior[key] = categoryCount[key] / float(N)\n",
    "    \n",
    "    \n",
    "    def allocateCategory(self, ipnutData):  \n",
    "        N = len(ipnutData)\n",
    "        categoryBag = {}\n",
    "        \n",
    "        for i in range(N):\n",
    "            vector = ipnutData[i]\n",
    "            \n",
    "            if (vector[-1] not in categoryBag):\n",
    "                categoryBag[vector[-1]] = []\n",
    "            categoryBag[vector[-1]].append(vector)\n",
    "        \n",
    "        return categoryBag\n",
    "    \n",
    "    \n",
    "    def fit(self, ipnutData):     \n",
    "        category_stats = self.allocateCategory(ipnutData)\n",
    "        # Prior calculation\n",
    "        self.priorProbability(ipnutData)\n",
    "        \n",
    "        for categoryLabel, categoryData in category_stats.iteritems():\n",
    "            feature_stats = [list([self.mean(feature), self.stdev(feature)])\n",
    "                             for feature in zip(*categoryData)]\n",
    "            del feature_stats[-1]\n",
    "            \n",
    "            self._model[categoryLabel] = feature_stats\n",
    "\n",
    "        \n",
    "    def calculateCategoryProbabilities(self, Vector): \n",
    "        probabilities = {}\n",
    "        \n",
    "        for categoryLabel, categoryValue in self._model.iteritems():\n",
    "            assert (len(Vector) - 1) == len(categoryValue), \\\n",
    "            'The shape of input array {} does not match the training data {}.'.\\\n",
    "            format(len(Vector), len(categoryValue))\n",
    "            \n",
    "            # initial values with the prior probability\n",
    "            probabilities[categoryLabel] = self.prior[categoryLabel]\n",
    "            \n",
    "            for i in range(len(categoryValue)):\n",
    "                mean, stdev = categoryValue[i]\n",
    "                x = Vector[i]\n",
    "                probabilities[categoryLabel] *= self.gaussianDistribution(x, mean, stdev)\n",
    "                \n",
    "        return probabilities\n",
    "    \n",
    "    \n",
    "    def predict(self, Vector):\n",
    "        # predict the class label by selecting the class with highest probability\n",
    "        probabilities = self.calculateCategoryProbabilities(Vector)\n",
    "        bestLabel, bestProb = None, -1\n",
    "        \n",
    "        totalProb = 0.0 # for normalization\n",
    "        for categoryValue, probability in probabilities.iteritems():            \n",
    "            totalProb += probability\n",
    "            if bestLabel is None or probability > bestProb:\n",
    "                bestProb = probability\n",
    "                bestLabel = categoryValue\n",
    "        \n",
    "        return bestLabel\n",
    "\n",
    "    \n",
    "    def getPredictions(self, testSet):   \n",
    "        predictions = []\n",
    "        for i in range(len(testSet)):\n",
    "            result = self.predict(testSet[i])\n",
    "            predictions.append(result)\n",
    "        \n",
    "        return predictions\n",
    "    \n",
    "    \n",
    "    def getAccuracy(self, testSet, predictions):\n",
    "        correct = 0\n",
    "        for i in range(len(testSet)):\n",
    "            if testSet[i][-1] == predictions[i]:\n",
    "                correct += 1\n",
    "        return (correct/float(len(testSet))) * 100.0\n",
    "    \n",
    "    \n",
    "    # online learning method 1\n",
    "    def observe_sanityCheck(self, inputVector, label, trainSet):\n",
    "        assert len(inputVector) == (len(trainSet[0]) - 1), 'Check your input feature size!'\n",
    "        assert type(label) == int, 'The label has to be an interger.'\n",
    "        \n",
    "        self.trainSize += 1\n",
    "        \n",
    "        # append new data to the original dataset\n",
    "        inputVector.append(label)\n",
    "        trainSet.append(inputVector)\n",
    "        \n",
    "        # training model\n",
    "        self.fit(trainSet)\n",
    "    \n",
    "    \n",
    "    # online learning method 2\n",
    "    def observe(self, inputVector, label):\n",
    "        assert type(label) == int, 'The label has to be an integer.'\n",
    "        \n",
    "        if len(inputVector) != 0 and self.trainSize != 0: \n",
    "            \n",
    "            for categoryLabel, categoryValue in self._model.iteritems():        \n",
    "                assert len(inputVector) == len(categoryValue), \\\n",
    "                'The shape of input array {} does not match the training data {}.'.\\\n",
    "                format(len(inputVector), len(categoryValue))\n",
    "                \n",
    "                n_old = self.prior[categoryLabel] * self.trainSize\n",
    "                \n",
    "\n",
    "                if label == categoryLabel:\n",
    "                    # update prior and feature mean in each cateogry\n",
    "                    self.prior[categoryLabel] = (n_old + 1.0) / (self.trainSize + 1.0)\n",
    "                                                                              \n",
    "                    for i in range(len(categoryValue)):\n",
    "                        mu, stdev = categoryValue[i]\n",
    "                        var = math.pow(stdev, 2)\n",
    "\n",
    "                        n_new = 1\n",
    "                        new_var = 0.0\n",
    "                        new_mu = inputVector[i]\n",
    "\n",
    "                        n_total = float(n_old + n_new)\n",
    "\n",
    "                        # combine new vector and old data\n",
    "                        # update the mean\n",
    "                        self._model[categoryLabel][i][0] = (n_new * new_mu + n_old * mu) / n_total\n",
    "                       \n",
    "                        # update ssd (\"sum-of-squared-differences\")\n",
    "                        old_ssd = n_old * var\n",
    "                        new_ssd = n_new * new_var\n",
    "                        total_ssd = (old_ssd + new_ssd +\n",
    "                                     (n_old / float(n_new * n_total)) *\n",
    "                                     (n_new * mu - n_new * new_mu) ** 2)\n",
    "\n",
    "                        self._model[categoryLabel][i][1] = math.sqrt(total_ssd / n_total)\n",
    "                        \n",
    "                else:\n",
    "                    self.prior[categoryLabel] = (n_old) / (self.trainSize + 1.0)\n",
    "        \n",
    "        self.trainSize += 1 \n",
    "        \n",
    "        \n",
    "    def validation(self, testSet):\n",
    "        # validate model\n",
    "        pred_ = self.getPredictions(testSet)\n",
    "        accuracy_ = self.getAccuracy(testSet, pred_)\n",
    "\n",
    "        if Debug:\n",
    "            print('train={0} and test={1} rows').format(self.trainSize, len(testSet))\n",
    "            print('Accuracy: {0}%').format(accuracy_)\n",
    "            print [(sum(attribute), self.mean(attribute)) for attribute in zip(*pred_)]\n",
    "\n",
    "        return self.trainSize, accuracy_"
   ]
  },
  {
   "cell_type": "code",
   "execution_count": 10,
   "metadata": {
    "collapsed": false
   },
   "outputs": [],
   "source": [
    "def main(filename, splitRatio):\n",
    "\n",
    "    nb = NaiveBayes(filename)\n",
    "    data_ = nb.loadCSV()\n",
    "    training_, test_ = nb.trainTestSplit(data_, splitRatio)\n",
    "    \n",
    "    print('Split {0} rows into train={1} and test={2} rows').format(len(data_),                                                               len(training_), \n",
    "                                                                    len(test_))\n",
    "    \n",
    "    # prepare model\n",
    "    nb.fit(training_)\n",
    "    \n",
    "    # test model\n",
    "    predictions = nb.getPredictions(test_)\n",
    "    accuracy = nb.getAccuracy(test_, predictions)\n",
    "    print('Naive Bayers Accuracy: {0}%').format(accuracy)\n",
    "    \n",
    "    return nb, training_, test_"
   ]
  },
  {
   "cell_type": "markdown",
   "metadata": {},
   "source": [
    "## 2.2 Sanity Check -- Gaussian Naive Bayes in SKlearn\n",
    "\n",
    "The accuracies from our implementation and SKlearn GaussianNB are equal."
   ]
  },
  {
   "cell_type": "code",
   "execution_count": 11,
   "metadata": {
    "collapsed": false
   },
   "outputs": [
    {
     "name": "stdout",
     "output_type": "stream",
     "text": [
      "Split 768 rows into train=537 and test=231 rows\n",
      "Naive Bayers Accuracy: 75.3246753247%\n"
     ]
    }
   ],
   "source": [
    "fname = '/Users/syan/Desktop/Document/pima-diabetes/pima-indians-diabetes.data'\n",
    "split_ratio = 0.7\n",
    "\n",
    "nb_model, trainingData, testData = main(fname, split_ratio)"
   ]
  },
  {
   "cell_type": "code",
   "execution_count": 12,
   "metadata": {
    "collapsed": false
   },
   "outputs": [
    {
     "name": "stdout",
     "output_type": "stream",
     "text": [
      "SKLearn Gaussian NB Accuracy: 75.3246753247%\n"
     ]
    }
   ],
   "source": [
    "from sklearn.naive_bayes import GaussianNB\n",
    "from sklearn.metrics import accuracy_score\n",
    "\n",
    "training_pd = pd.DataFrame(trainingData, columns=['x1','x2','x3','x4','x5', 'x6','x7','x8','y'])\n",
    "test_pd = pd.DataFrame(testData, columns=['x1','x2','x3','x4','x5', 'x6','x7','x8','y'])\n",
    "\n",
    "model = GaussianNB()\n",
    "model.fit(training_pd.iloc[:,:8], training_pd.iloc[:,8])\n",
    "\n",
    "pred_results = model.predict(test_pd.iloc[:,:8])\n",
    "sklearn_accuracy = accuracy_score(test_pd['y'], pred_results)\n",
    "print('SKLearn Gaussian NB Accuracy: {0}%').format(sklearn_accuracy*100)"
   ]
  },
  {
   "cell_type": "markdown",
   "metadata": {},
   "source": [
    "### 2.2.1 Visualize the classification results as ROC curve"
   ]
  },
  {
   "cell_type": "code",
   "execution_count": 13,
   "metadata": {
    "collapsed": false
   },
   "outputs": [],
   "source": [
    "from sklearn.metrics import roc_curve, auc\n",
    "\n",
    "def plot_roc(truth, pred_prob, lib):\n",
    "\n",
    "    fpr, tpr, thresholds = roc_curve(truth, pred_prob)\n",
    "    roc_auc = auc(fpr, tpr)\n",
    "\n",
    "    plt.plot(fpr, tpr, lw=1, label='AUC = %0.2f' % (roc_auc))\n",
    "\n",
    "    plt.xlim([-0.05, 1.05])\n",
    "    plt.ylim([-0.05, 1.05])\n",
    "    plt.xlabel('False Positive Rate')\n",
    "    plt.ylabel('True Positive Rate')\n",
    "    plt.title('Receiver operating characteristic {}'.format(lib), y=1.02)\n",
    "    plt.legend(loc=\"lower right\")\n",
    "    plt.show()"
   ]
  },
  {
   "cell_type": "code",
   "execution_count": 14,
   "metadata": {
    "collapsed": false
   },
   "outputs": [
    {
     "data": {
      "image/png": "[encoded data removed]",
      "text/plain": [
       "<matplotlib.figure.Figure at 0x10b6d9ad0>"
      ]
     },
     "metadata": {},
     "output_type": "display_data"
    }
   ],
   "source": [
    "probas_ = model.predict_proba(test_pd.iloc[:,:8])\n",
    "plot_roc(test_pd.iloc[:,8], probas_[:,1],  lib='' )"
   ]
  },
  {
   "cell_type": "markdown",
   "metadata": {},
   "source": [
    "## 2.3 Simple tests of the online learning function \"observe\"\n",
    "\n",
    "1. Randomly generate one input array and append it to the training data\n",
    "2. Run \"observe\" function to update the Naive Bayers model\n",
    "3. Use the updated model to make prediction on the original test data\n",
    "4. Track the prediction accuracy as new data added\n",
    "5. **Repeat Step 1 - 4**\n",
    "6. Compare the results from Method 1 and Method 2"
   ]
  },
  {
   "cell_type": "code",
   "execution_count": 15,
   "metadata": {
    "collapsed": false,
    "scrolled": false
   },
   "outputs": [
    {
     "data": {
      "image/png": "[encoded data removed]",
      "text/plain": [
       "<matplotlib.figure.Figure at 0x10b6c8910>"
      ]
     },
     "metadata": {},
     "output_type": "display_data"
    }
   ],
   "source": [
    "accuracyList_v1 = []\n",
    "accuracyList_v2 = []\n",
    "\n",
    "# make a deep copy of Naive Bayers instance\n",
    "tempModel = copy.deepcopy(nb_model)\n",
    "\n",
    "for i in xrange(200):\n",
    "    # random sample data generator\n",
    "    newOb = [random.randint(0,100) for x in xrange(8)]\n",
    "    label = 1 if random.random() > 0.4 else 0\n",
    "    \n",
    "    if Debug:\n",
    "        print nb_model._model, nb_model.prior, nb_model.trainSize\n",
    "        print tempModel._model, tempModel.prior, tempModel.trainSize\n",
    "    \n",
    "    nb_model.observe_sanityCheck(newOb[:], label, trainingData)\n",
    "    accuracyList_v1.append(nb_model.validation(testData))\n",
    "    \n",
    "    tempModel.observe(newOb[:], label)\n",
    "    accuracyList_v2.append(tempModel.validation(testData))\n",
    "    \n",
    "\n",
    "plt.figure(figsize=(7,5))\n",
    "accuracyList_v1 = pd.DataFrame(accuracyList_v1, columns=['Training Sample Size', 'Accuracy'])\n",
    "plt.plot(accuracyList_v1['Training Sample Size'], accuracyList_v1['Accuracy'], label='Method 1')\n",
    "\n",
    "accuracyList_v2 = pd.DataFrame(accuracyList_v2, columns=['Training Sample Size', 'Accuracy'])\n",
    "plt.plot(accuracyList_v2['Training Sample Size'], accuracyList_v2['Accuracy'], label='Method 2')\n",
    "plt.title('Online Learning Accuracy', y=1.02)\n",
    "plt.xlabel('Training Sample Size')\n",
    "plt.ylabel('Accuracy%')\n",
    "plt.legend(loc='best')\n",
    "plt.show()\n"
   ]
  },
  {
   "cell_type": "markdown",
   "metadata": {},
   "source": [
    "### 2.3.1 Sanity check of two \"observe\" methods"
   ]
  },
  {
   "cell_type": "code",
   "execution_count": 16,
   "metadata": {
    "collapsed": false
   },
   "outputs": [],
   "source": [
    "eq = (accuracyList_v1 == accuracyList_v2).any(1)\n",
    "\n",
    "for x in eq:\n",
    "    assert x, 'Two methods does not give the identical results!'"
   ]
  },
  {
   "cell_type": "code",
   "execution_count": null,
   "metadata": {
    "collapsed": true
   },
   "outputs": [],
   "source": []
  }
 ],
 "metadata": {
  "kernelspec": {
   "display_name": "Python 2",
   "language": "python",
   "name": "python2"
  },
  "language_info": {
   "codemirror_mode": {
    "name": "ipython",
    "version": 2
   },
   "file_extension": ".py",
   "mimetype": "text/x-python",
   "name": "python",
   "nbconvert_exporter": "python",
   "pygments_lexer": "ipython2",
   "version": "2.7.12"
  }
 },
 "nbformat": 4,
 "nbformat_minor": 0
}
