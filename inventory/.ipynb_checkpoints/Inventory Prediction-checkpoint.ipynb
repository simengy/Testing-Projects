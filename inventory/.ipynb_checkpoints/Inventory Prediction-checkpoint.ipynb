{
 "cells": [
  {
   "cell_type": "markdown",
   "metadata": {},
   "source": [
    "## Take Home Exercise"
   ]
  },
  {
   "cell_type": "markdown",
   "metadata": {},
   "source": [
    "### 0. Loading data"
   ]
  },
  {
   "cell_type": "code",
   "execution_count": 140,
   "metadata": {
    "collapsed": false
   },
   "outputs": [],
   "source": [
    "import pandas as pd\n",
    "import numpy as np\n",
    "import matplotlib.pyplot as plt\n",
    "import matplotlib.ticker as mtick\n",
    "\n",
    "%matplotlib inline\n",
    "\n",
    "import datetime\n",
    "import seaborn\n",
    "import copy\n",
    "import sys\n",
    "import os\n",
    "\n",
    "from sklearn.linear_model import LogisticRegression\n",
    "from sklearn.ensemble import RandomForestClassifier\n",
    "from sklearn import preprocessing \n",
    "from sklearn.grid_search import GridSearchCV\n",
    "from sklearn.cross_validation import train_test_split"
   ]
  },
  {
   "cell_type": "code",
   "execution_count": 141,
   "metadata": {
    "collapsed": false
   },
   "outputs": [
    {
     "data": {
      "text/html": [
       "<div>\n",
       "<table border=\"1\" class=\"dataframe\">\n",
       "  <thead>\n",
       "    <tr style=\"text-align: right;\">\n",
       "      <th></th>\n",
       "      <th>member_id</th>\n",
       "      <th>loan_amnt</th>\n",
       "      <th>int_rate</th>\n",
       "      <th>issue_d</th>\n",
       "      <th>loan_status</th>\n",
       "      <th>fico_range_low</th>\n",
       "      <th>fico_range_high</th>\n",
       "      <th>annual_inc</th>\n",
       "      <th>last_pymnt_d</th>\n",
       "    </tr>\n",
       "  </thead>\n",
       "  <tbody>\n",
       "    <tr>\n",
       "      <th>0</th>\n",
       "      <td>35784929</td>\n",
       "      <td>18000</td>\n",
       "      <td>9.17%</td>\n",
       "      <td>Oct 2014</td>\n",
       "      <td>Fully Paid</td>\n",
       "      <td>700</td>\n",
       "      <td>704</td>\n",
       "      <td>150000</td>\n",
       "      <td>Oct 2015</td>\n",
       "    </tr>\n",
       "    <tr>\n",
       "      <th>1</th>\n",
       "      <td>35914827</td>\n",
       "      <td>14000</td>\n",
       "      <td>11.67%</td>\n",
       "      <td>Oct 2014</td>\n",
       "      <td>Current</td>\n",
       "      <td>670</td>\n",
       "      <td>674</td>\n",
       "      <td>135000</td>\n",
       "      <td>Oct 2015</td>\n",
       "    </tr>\n",
       "    <tr>\n",
       "      <th>2</th>\n",
       "      <td>35985086</td>\n",
       "      <td>8400</td>\n",
       "      <td>9.17%</td>\n",
       "      <td>Oct 2014</td>\n",
       "      <td>Current</td>\n",
       "      <td>665</td>\n",
       "      <td>669</td>\n",
       "      <td>75000</td>\n",
       "      <td>Oct 2015</td>\n",
       "    </tr>\n",
       "    <tr>\n",
       "      <th>3</th>\n",
       "      <td>35945193</td>\n",
       "      <td>10000</td>\n",
       "      <td>7.69%</td>\n",
       "      <td>Oct 2014</td>\n",
       "      <td>Current</td>\n",
       "      <td>730</td>\n",
       "      <td>734</td>\n",
       "      <td>94000</td>\n",
       "      <td>Oct 2015</td>\n",
       "    </tr>\n",
       "    <tr>\n",
       "      <th>4</th>\n",
       "      <td>35754571</td>\n",
       "      <td>2000</td>\n",
       "      <td>12.99%</td>\n",
       "      <td>Oct 2014</td>\n",
       "      <td>Current</td>\n",
       "      <td>680</td>\n",
       "      <td>684</td>\n",
       "      <td>150000</td>\n",
       "      <td>Oct 2015</td>\n",
       "    </tr>\n",
       "  </tbody>\n",
       "</table>\n",
       "</div>"
      ],
      "text/plain": [
       "   member_id  loan_amnt int_rate   issue_d loan_status  fico_range_low  \\\n",
       "0   35784929      18000    9.17%  Oct 2014  Fully Paid             700   \n",
       "1   35914827      14000   11.67%  Oct 2014     Current             670   \n",
       "2   35985086       8400    9.17%  Oct 2014     Current             665   \n",
       "3   35945193      10000    7.69%  Oct 2014     Current             730   \n",
       "4   35754571       2000   12.99%  Oct 2014     Current             680   \n",
       "\n",
       "   fico_range_high  annual_inc last_pymnt_d  \n",
       "0              704      150000     Oct 2015  \n",
       "1              674      135000     Oct 2015  \n",
       "2              669       75000     Oct 2015  \n",
       "3              734       94000     Oct 2015  \n",
       "4              684      150000     Oct 2015  "
      ]
     },
     "execution_count": 141,
     "metadata": {},
     "output_type": "execute_result"
    }
   ],
   "source": [
    "data = pd.read_csv('../creditScore/Data Scientist.docx')\n",
    "data.head()"
   ]
  },
  {
   "cell_type": "code",
   "execution_count": 142,
   "metadata": {
    "collapsed": false
   },
   "outputs": [
    {
     "name": "stdout",
     "output_type": "stream",
     "text": [
      "Original data size: (239046, 9)\n",
      "New data size without last_pymnt_d = NA: (237709, 9)\n"
     ]
    }
   ],
   "source": [
    "print 'Original data size:', data.shape\n",
    "print 'New data size without last_pymnt_d = NA:', data.dropna().shape\n",
    "\n",
    "data = data[~data['last_pymnt_d'].isnull()]\n",
    "data['last_pymnt_d'] = data['last_pymnt_d'].apply(lambda x: datetime.datetime.strptime(x, '%b %Y'))\n",
    "data['issue_d'] = data['issue_d'].apply(lambda x: datetime.datetime.strptime(x, '%b %Y'))\n",
    "data['int_rate'] = data['int_rate'].apply(lambda x:float(x.strip('%')) / 100.0)"
   ]
  },
  {
   "cell_type": "code",
   "execution_count": 6,
   "metadata": {
    "collapsed": false
   },
   "outputs": [
    {
     "data": {
      "image/png": "[encoded data removed]",
      "text/plain": [
       "<matplotlib.figure.Figure at 0x106e87410>"
      ]
     },
     "metadata": {},
     "output_type": "display_data"
    }
   ],
   "source": [
    "ax = data[data['last_pymnt_d']<datetime.datetime(2015,10,1)].\\\n",
    "groupby(['last_pymnt_d', 'loan_status']).\\\n",
    "agg({'member_id':lambda x:x.nunique()}).\\\n",
    "unstack('loan_status').\\\n",
    "plot(kind='bar')\n",
    "\n",
    "plt.title('Data Summary from 10/2014 to 09/2015', fontsize=20, y=1.02)\n",
    "ax.set_xlabel('Month',fontsize=15)\n",
    "ax.set_ylabel('# of unique Member IDs',fontsize=15)\n",
    "\n",
    "plt.xticks(fontsize=12)\n",
    "plt.yticks(fontsize=12)\n",
    "plt.legend(fontsize=12, loc='best')\n",
    "plt.show()"
   ]
  },
  {
   "cell_type": "markdown",
   "metadata": {},
   "source": [
    "### 1. Exploratory Investigation\n",
    " \n",
    "They are negatively correlated, or say, the higher FICO score is associated with the lower interest rate. Mathematically the correlation coefficient between interest rate and FICO score is -0.43."
   ]
  },
  {
   "cell_type": "code",
   "execution_count": 143,
   "metadata": {
    "collapsed": false
   },
   "outputs": [
    {
     "data": {
      "text/plain": [
       "array([[ 1.       , -0.4250423],\n",
       "       [-0.4250423,  1.       ]])"
      ]
     },
     "execution_count": 143,
     "metadata": {},
     "output_type": "execute_result"
    }
   ],
   "source": [
    "np.corrcoef(data['int_rate'], data['fico_range_high'])"
   ]
  },
  {
   "cell_type": "code",
   "execution_count": 144,
   "metadata": {
    "collapsed": false
   },
   "outputs": [
    {
     "data": {
      "text/plain": [
       "array([[ 1.        , -0.42504557],\n",
       "       [-0.42504557,  1.        ]])"
      ]
     },
     "execution_count": 144,
     "metadata": {},
     "output_type": "execute_result"
    }
   ],
   "source": [
    "np.corrcoef(data['int_rate'], data['fico_range_low'])"
   ]
  },
  {
   "cell_type": "markdown",
   "metadata": {},
   "source": [
    "* Since most of the \"fico_range_high\" and \"fico_range_low\" are different by 4 points, I used \"fico_range_high\" to represent each borrower's FICO score."
   ]
  },
  {
   "cell_type": "code",
   "execution_count": 145,
   "metadata": {
    "collapsed": false
   },
   "outputs": [
    {
     "data": {
      "text/html": [
       "<div>\n",
       "<table border=\"1\" class=\"dataframe\">\n",
       "  <thead>\n",
       "    <tr style=\"text-align: right;\">\n",
       "      <th></th>\n",
       "      <th>fico_diff</th>\n",
       "      <th>member_id</th>\n",
       "    </tr>\n",
       "    <tr>\n",
       "      <th>loan_status</th>\n",
       "      <th></th>\n",
       "      <th></th>\n",
       "    </tr>\n",
       "  </thead>\n",
       "  <tbody>\n",
       "    <tr>\n",
       "      <th>Charged Off</th>\n",
       "      <td>4.000000</td>\n",
       "      <td>1591</td>\n",
       "    </tr>\n",
       "    <tr>\n",
       "      <th>Current</th>\n",
       "      <td>4.000127</td>\n",
       "      <td>219634</td>\n",
       "    </tr>\n",
       "    <tr>\n",
       "      <th>Fully Paid</th>\n",
       "      <td>4.000182</td>\n",
       "      <td>16484</td>\n",
       "    </tr>\n",
       "  </tbody>\n",
       "</table>\n",
       "</div>"
      ],
      "text/plain": [
       "             fico_diff  member_id\n",
       "loan_status                      \n",
       "Charged Off   4.000000       1591\n",
       "Current       4.000127     219634\n",
       "Fully Paid    4.000182      16484"
      ]
     },
     "execution_count": 145,
     "metadata": {},
     "output_type": "execute_result"
    }
   ],
   "source": [
    "data['fico_diff'] = data['fico_range_high'] - data['fico_range_low']\n",
    "data[~data['last_pymnt_d'].isnull()].groupby(['loan_status']).agg({'fico_diff':'mean', 'member_id':'count'})"
   ]
  },
  {
   "cell_type": "markdown",
   "metadata": {},
   "source": [
    "### 2. Feature Engineering and Importance\n",
    "\n",
    "Using Random Forest Classifier to qantify the feature importances, which means loan_amnt and int_rate are weakly negatively correlated. However, if using loan_amnt / annual_inc indicate the capability of paying the loans, they are weakly positively correlated **(with coefficient = 0.14)**."
   ]
  },
  {
   "cell_type": "code",
   "execution_count": 146,
   "metadata": {
    "collapsed": false
   },
   "outputs": [
    {
     "data": {
      "text/plain": [
       "Index([u'member_id', u'loan_amnt', u'int_rate', u'issue_d', u'loan_status',\n",
       "       u'fico_range_low', u'fico_range_high', u'annual_inc', u'last_pymnt_d',\n",
       "       u'fico_diff'],\n",
       "      dtype='object')"
      ]
     },
     "execution_count": 146,
     "metadata": {},
     "output_type": "execute_result"
    }
   ],
   "source": [
    "data.columns"
   ]
  },
  {
   "cell_type": "code",
   "execution_count": 147,
   "metadata": {
    "collapsed": true
   },
   "outputs": [],
   "source": [
    "tmp = data[data['loan_status']!='Current'].copy()\n",
    "tmp.ix[tmp['loan_status']=='Current', 'target']=-1\n",
    "tmp.ix[tmp['loan_status']=='Charged Off', 'target']=0\n",
    "tmp.ix[tmp['loan_status']=='Fully Paid', 'target']=1"
   ]
  },
  {
   "cell_type": "code",
   "execution_count": 148,
   "metadata": {
    "collapsed": true
   },
   "outputs": [],
   "source": [
    "allFeatures = [u'loan_amnt', u'int_rate',\n",
    "               u'fico_range_high', u'annual_inc', \n",
    "               u'last_pymnt_d']\n",
    "\n",
    "numericFeatures = [u'loan_amnt', u'int_rate',\n",
    "                   u'fico_range_high', u'annual_inc']"
   ]
  },
  {
   "cell_type": "code",
   "execution_count": 149,
   "metadata": {
    "collapsed": true
   },
   "outputs": [],
   "source": [
    " def data_preprocessing(_data_, scale_=None, target_col='target', timestamp='Date'):\n",
    "        if allFeatures:\n",
    "            x_ = _data_[allFeatures].copy()\n",
    "        else:\n",
    "            x_ = _data_.copy()\n",
    "\n",
    "        # any numeric transformation should be entered here\n",
    "        '''\n",
    "        x_['reporters_app'] = np.log(x_['reporters_app'])\n",
    "        x_['reporters_all'] = np.log(x_['reporters_all'])\n",
    "        x_['reporters_app_movingAvg'] = np.log(x_['reporters_app_movingAvg'])\n",
    "        x_['moving_avg_dl'] = np.log(x_['moving_avg_dl']+1.0) / x_['reporters_app']\n",
    "        x_['total_downloads'] = np.log(x_['total_downloads']+100.0) / x_['reporters_app']\n",
    "        '''\n",
    "        \n",
    "        if target_col:\n",
    "            y_ = _data_[target_col]\n",
    "            scaler_ = preprocessing.StandardScaler().fit(x_[numericFeatures])\n",
    "        else:\n",
    "            y_ = None\n",
    "            assert scaler_ is not None, ValueError('scaler has not been calucated!')\n",
    "        \n",
    "        # Simple treatment of datetime\n",
    "        if timestamp in x_.columns:\n",
    "            x_['month'] = x_[timestamp].dt.month.apply(str)\n",
    "            x_['year'] = x_[timestamp].dt.year.apply(str)\n",
    "            x_['hour'] = x_[timestamp].dt.hour.apply(str)\n",
    "            x_['weekday'] = x_[timestamp].dt.dayofweek\n",
    "            \n",
    "        # Count frequency and add back\n",
    "            if 1:\n",
    "                x_['month_freq'] = x_.groupby(['month'])['month'].transform('count')\n",
    "                x_['year_freq'] = x_.groupby(['year'])['year'].transform('count')\n",
    "                x_['hour_freq'] = x_.groupby(['hour'])['hour'].transform('count')\n",
    "                x_['weekday_freq'] = x_.groupby(['weekday'])['weekday'].transform('count')\n",
    "\n",
    "                x_.drop([timestamp, 'month', 'year', 'hour', 'weekday'], axis=1, inplace=True)\n",
    "                tmpFeatures = copy.copy(numericFeatures)\n",
    "                tmpFeatures.append(['month_freq','year_freq','hour_freq','weekday_freq',])\n",
    "            else:\n",
    "                x.drop([timestamp], axis=1, inplace=True)\n",
    "            \n",
    "        try:\n",
    "            x_[tmpFeatures] = scaler_.transform(x_[tmpFeatures]) \n",
    "        except:\n",
    "            ValueError('The feature scaler does not exist!')\n",
    "\n",
    "        # dummy coding\n",
    "        x_ = pd.get_dummies(x_)\n",
    "        if target_col:    \n",
    "            processedFeatures = x_.columns\n",
    "\n",
    "        return x_, y_, processedFeatures"
   ]
  },
  {
   "cell_type": "code",
   "execution_count": 150,
   "metadata": {
    "collapsed": false
   },
   "outputs": [],
   "source": [
    "def variable_importance(_model_, x_, y_, fnames, model_name='Random Forest', col='r', TOP_N=50):\n",
    "\n",
    "    _model_.fit(x_, y_)\n",
    "\n",
    "    if model_name == 'Random Forest':\n",
    "        importances = _model_.feature_importances_\n",
    "        std = np.std([tree.feature_importances_ for tree in _model_.estimators_],\n",
    "                     axis=0)\n",
    "    elif model_name == 'Linear Regression':\n",
    "        importances = np.abs(_model_.coef_)\n",
    "        std = np.array([0.0] * importances.shape[0])\n",
    "    else:\n",
    "        raise ValueError('The model is beyond the current support model list for variable importance!')\n",
    "    \n",
    "    indices_ = np.argsort(importances)[::-1]\n",
    "\n",
    "    # Print the feature ranking\n",
    "    print(\"Feature ranking:\")\n",
    "\n",
    "    for f in range(TOP_N):\n",
    "        print(\"%d. feature %d -- %s (%f)\" % (f + 1, indices_[f], fnames[indices_[f]], \n",
    "                                             importances[indices_[f]]))\n",
    "\n",
    "    # Plot the feature importances of the forest\n",
    "    fig, ax = plt.subplots(figsize=(15, 10))\n",
    "\n",
    "    plt.title(\"{} Feature Importances\".format(model_name), fontsize=20)\n",
    "    plt.bar(range(TOP_N), importances[indices_[:TOP_N]],\n",
    "            color=col, yerr=std[indices_[:TOP_N]], align=\"center\")\n",
    "\n",
    "    plt.xticks(range(TOP_N), [name.decode('utf8') \n",
    "                              for name in list(fnames[indices_])], fontsize=12)\n",
    "    ax.set_xticklabels([name.decode('utf8') \n",
    "                        for name in list(fnames[indices_])], rotation=90)\n",
    "    plt.yticks(fontsize=12)\n",
    "    ax.set_ylabel('Feature Importance', fontsize=15)\n",
    "\n",
    "    plt.xlim([-1, TOP_N])\n",
    "    plt.show()\n",
    "    \n",
    "    return indices_"
   ]
  },
  {
   "cell_type": "markdown",
   "metadata": {},
   "source": [
    "### 3. Grid Search for optimal hyperparameters\n",
    "\n",
    "Leveraging FICO scores and loan amount as features, I have trained a logistic regression model to learn \"Charged Off\" or \"Fully Paid\" as target. With normalized features, the coefficients of fitted logistic model can be considered as the multiple correlation coefficients. It is noticeable that the loan size is weakly correlated with the loan status \"Charged Off\" or not, while FICO score is strongly correlated. \n",
    "\n",
    "As far as we know, FICO scores are correlated with Charged off/Fully paid, and interest rates are negatively correlated with FICO scores. We might infer that the interest rates are related to the loans ends up being charged off or not. This has been confirmed by fitting another logistic regression model including **\"interest rate\"** as a third feature). Loan amount are weakly correlatd with Charged off status, and thus weakly related to interest rate. This is consitent with the conclusion from question 2."
   ]
  },
  {
   "cell_type": "code",
   "execution_count": 151,
   "metadata": {
    "collapsed": true
   },
   "outputs": [],
   "source": [
    "def optimizer(_model_, x_, y_, param_list, score_function=None, n_jobs=4):\n",
    "    '''\n",
    "    param_list: a container of the model parameters that varies algorithm by algorithm\n",
    "    '''\n",
    "    grid = GridSearchCV(_model_, param_grid=param_list, cv=5, \n",
    "                        scoring=score_function, n_jobs=n_jobs)\n",
    "    grid.fit(x_, y_)\n",
    "\n",
    "    best_param = grid.best_params_\n",
    "\n",
    "    print 'Scoring Function:', score_function\n",
    "    print \"Parameter List:\", param_list\n",
    "    print \"Best Parameters:\", best_param\n",
    "    \n",
    "    return best_param"
   ]
  },
  {
   "cell_type": "code",
   "execution_count": 152,
   "metadata": {
    "collapsed": false
   },
   "outputs": [
    {
     "name": "stdout",
     "output_type": "stream",
     "text": [
      "coef of loan_amnt = -0.10628738971\n",
      "coef of fico_range_high = 0.512708897691\n"
     ]
    }
   ],
   "source": [
    "feature_list = ['loan_amnt', 'fico_range_high']\n",
    "\n",
    "logistic = LogisticRegression(tol=1e-6)\n",
    "\n",
    "scaler = preprocessing.StandardScaler().fit(tmp[feature_list])\n",
    "logistic.fit(scaler.transform(tmp[feature_list]), tmp['target'])\n",
    "\n",
    "print 'coef of loan_amnt = {}'.format(logistic.coef_[0][0])\n",
    "print 'coef of fico_range_high = {}'.format(logistic.coef_[0][1])"
   ]
  },
  {
   "cell_type": "code",
   "execution_count": 104,
   "metadata": {
    "collapsed": false
   },
   "outputs": [
    {
     "name": "stdout",
     "output_type": "stream",
     "text": [
      "coef of loan_amnt = -0.0805935496959\n",
      "coef of fico_range_high = 0.273140630435\n",
      "coef of int_rate = -0.62217949019\n"
     ]
    }
   ],
   "source": [
    "logistic = LogisticRegression(tol=1e-6)\n",
    "\n",
    "scaler = preprocessing.StandardScaler().fit(tmp[['loan_amnt', 'fico_range_high', 'int_rate']])\n",
    "logistic.fit(scaler.transform(tmp[['loan_amnt', 'fico_range_high', 'int_rate']]), tmp['target'])\n",
    "\n",
    "print 'coef of loan_amnt = {}'.format(logistic.coef_[0][0])\n",
    "print 'coef of fico_range_high = {}'.format(logistic.coef_[0][1])\n",
    "print 'coef of int_rate = {}'.format(logistic.coef_[0][2])"
   ]
  },
  {
   "cell_type": "markdown",
   "metadata": {},
   "source": [
    "### 5. Model training and Performance evaluation\n",
    "\n",
    "A random forest classifier has been trained to learn the patterns of the borrrowers who either have \"Fully Paid\" or \"Charged Off\". There are two training scenarios: \n",
    "\n",
    "1. Randomly split the data as 70% for training and 30% for testing. The random forest classifier can achieve **AUC = 76%**. \n",
    "\n",
    "2. Split the data by the specific month, 2015-08. I used the the loans before 2015-08 for training, and validate the performance on 2015-09 and 2015-10, **AUC = 74%**.\n",
    "\n",
    "The loans marked as \"Current\" are only found in 2015-09 and 2015-10. I have re-assigned the new month, for example \"2016-01\", to the borrowers, and then apply the random forest classifier to estimate the probability to end up being 'Charged Off'.\n",
    "\n",
    "One more thing worthy of mention is that I created a new feature \"time_to_fully_paid\" to reflect how much more time for the current loan to be paid off, which is calculated as:\n",
    "\n",
    "**time_to_fully_paid = 3 years - time_since_issue_d**\n",
    "\n",
    "Also **\"loan_ratio\"**, the ratio of \"loan_amnt\" and \"annual_inc\", is used in the model to indicate the loan paying capability with repsect to the annual income levels.\n",
    "\n",
    "You can find the predicted probability histogram of 'Current' loans being charged off in January 2016 below."
   ]
  },
  {
   "cell_type": "code",
   "execution_count": 105,
   "metadata": {
    "collapsed": false
   },
   "outputs": [],
   "source": [
    "data['month_since_launch'] = (data['last_pymnt_d'] - data['issue_d']).apply(int) / (86400 * 1e9)\n",
    "data['time_to_fully_paid'] = 365 * 3.0 - data['month_since_launch'] \n",
    "data['loan_ratio'] = data['loan_amnt'] / data['annual_inc']"
   ]
  },
  {
   "cell_type": "code",
   "execution_count": 106,
   "metadata": {
    "collapsed": false
   },
   "outputs": [
    {
     "data": {
      "text/plain": [
       "[u'loan_amnt', u'int_rate', u'fico_range_high', u'annual_inc', u'last_pymnt_d']"
      ]
     },
     "execution_count": 106,
     "metadata": {},
     "output_type": "execute_result"
    }
   ],
   "source": [
    "allFeatures"
   ]
  },
  {
   "cell_type": "code",
   "execution_count": 107,
   "metadata": {
    "collapsed": false
   },
   "outputs": [],
   "source": [
    "training_data = data[data['loan_status']!='Current'].copy()\n",
    "training_data.ix[training_data['loan_status']=='Current', 'target']=-1\n",
    "training_data.ix[training_data['loan_status']=='Charged Off', 'target']=1\n",
    "training_data.ix[training_data['loan_status']=='Fully Paid', 'target']=0"
   ]
  },
  {
   "cell_type": "markdown",
   "metadata": {},
   "source": [
    "**Model training scenario 1: Random Split**"
   ]
  },
  {
   "cell_type": "code",
   "execution_count": 108,
   "metadata": {
    "collapsed": false
   },
   "outputs": [
    {
     "data": {
      "text/html": [
       "<div>\n",
       "<table border=\"1\" class=\"dataframe\">\n",
       "  <thead>\n",
       "    <tr style=\"text-align: right;\">\n",
       "      <th></th>\n",
       "      <th>loan_amnt</th>\n",
       "      <th>int_rate</th>\n",
       "      <th>fico_range_high</th>\n",
       "      <th>annual_inc</th>\n",
       "    </tr>\n",
       "  </thead>\n",
       "  <tbody>\n",
       "    <tr>\n",
       "      <th>0</th>\n",
       "      <td>18000</td>\n",
       "      <td>0.0917</td>\n",
       "      <td>704</td>\n",
       "      <td>150000</td>\n",
       "    </tr>\n",
       "    <tr>\n",
       "      <th>7</th>\n",
       "      <td>25000</td>\n",
       "      <td>0.0603</td>\n",
       "      <td>729</td>\n",
       "      <td>150000</td>\n",
       "    </tr>\n",
       "    <tr>\n",
       "      <th>10</th>\n",
       "      <td>20000</td>\n",
       "      <td>0.0603</td>\n",
       "      <td>734</td>\n",
       "      <td>170000</td>\n",
       "    </tr>\n",
       "    <tr>\n",
       "      <th>14</th>\n",
       "      <td>2000</td>\n",
       "      <td>0.1499</td>\n",
       "      <td>669</td>\n",
       "      <td>50000</td>\n",
       "    </tr>\n",
       "    <tr>\n",
       "      <th>21</th>\n",
       "      <td>35000</td>\n",
       "      <td>0.1449</td>\n",
       "      <td>739</td>\n",
       "      <td>102765</td>\n",
       "    </tr>\n",
       "  </tbody>\n",
       "</table>\n",
       "</div>"
      ],
      "text/plain": [
       "    loan_amnt  int_rate  fico_range_high  annual_inc\n",
       "0       18000    0.0917              704      150000\n",
       "7       25000    0.0603              729      150000\n",
       "10      20000    0.0603              734      170000\n",
       "14       2000    0.1499              669       50000\n",
       "21      35000    0.1449              739      102765"
      ]
     },
     "execution_count": 108,
     "metadata": {},
     "output_type": "execute_result"
    }
   ],
   "source": [
    "training_data[numericFeatures].head()"
   ]
  },
  {
   "cell_type": "code",
   "execution_count": 110,
   "metadata": {
    "collapsed": false
   },
   "outputs": [],
   "source": [
    "data_x, data_y, newFeature = data_preprocessing(training_data, target_col='target', timestamp='last_pymnt_d')"
   ]
  },
  {
   "cell_type": "code",
   "execution_count": 111,
   "metadata": {
    "collapsed": false
   },
   "outputs": [
    {
     "data": {
      "text/plain": [
       "((12652, 8), (5423, 8))"
      ]
     },
     "execution_count": 111,
     "metadata": {},
     "output_type": "execute_result"
    }
   ],
   "source": [
    "train_x,  test_x, train_y, test_y = train_test_split(data_x, data_y, test_size=0.3)\n",
    "train_x.shape, test_x.shape"
   ]
  },
  {
   "cell_type": "code",
   "execution_count": 128,
   "metadata": {
    "collapsed": false
   },
   "outputs": [
    {
     "name": "stdout",
     "output_type": "stream",
     "text": [
      "Feature ranking:\n",
      "1. feature 1 -- int_rate (0.299225)\n",
      "2. feature 4 -- month_freq (0.204953)\n",
      "3. feature 3 -- annual_inc (0.184318)\n",
      "4. feature 0 -- loan_amnt (0.132338)\n",
      "5. feature 2 -- fico_range_high (0.105868)\n"
     ]
    },
    {
     "data": {
      "image/png": "[encoded data removed]",
      "text/plain": [
       "<matplotlib.figure.Figure at 0x118d60350>"
      ]
     },
     "metadata": {},
     "output_type": "display_data"
    },
    {
     "data": {
      "text/plain": [
       "array([1, 4, 3, 0, 2, 7, 5, 6])"
      ]
     },
     "execution_count": 128,
     "metadata": {},
     "output_type": "execute_result"
    }
   ],
   "source": [
    "rf = RandomForestClassifier(n_estimators=400, n_jobs=4, min_samples_split=100)\n",
    "variable_indices = variable_importance(rf, train_x, train_y, fnames=newFeature, TOP_N=5)"
   ]
  },
  {
   "cell_type": "code",
   "execution_count": 153,
   "metadata": {
    "collapsed": false
   },
   "outputs": [
    {
     "ename": "SyntaxError",
     "evalue": "keyword argument repeated (<ipython-input-153-65703f4e9075>, line 5)",
     "output_type": "error",
     "traceback": [
      "\u001b[0;36m  File \u001b[0;32m\"<ipython-input-153-65703f4e9075>\"\u001b[0;36m, line \u001b[0;32m5\u001b[0m\n\u001b[0;31m    rf = RandomForestClassifier(n_estimators=400, n_jobs=4, min_samples_split=100, n_jobs=4)\u001b[0m\n\u001b[0;31mSyntaxError\u001b[0m\u001b[0;31m:\u001b[0m keyword argument repeated\n"
     ]
    }
   ],
   "source": [
    "params = {'n_estimators':[400],\n",
    "          'min_samples_split':[1,5,10,20],\n",
    "          'max_depth':[10,15]}\n",
    "\n",
    "rf = RandomForestClassifier(n_estimators=400, n_jobs=4, min_samples_split=100, n_jobs=4)\n",
    "best_params = optimizer(rf, train_x, train_y, params, n_jobs=2)"
   ]
  },
  {
   "cell_type": "code",
   "execution_count": 114,
   "metadata": {
    "collapsed": false
   },
   "outputs": [],
   "source": [
    "rf = RandomForestClassifier(n_estimators=400, n_jobs=4, min_samples_split=100)\n",
    "rf.fit(train_x, train_y)\n",
    "\n",
    "prediction =rf.predict_proba(test_x)"
   ]
  },
  {
   "cell_type": "code",
   "execution_count": 116,
   "metadata": {
    "collapsed": false
   },
   "outputs": [
    {
     "data": {
      "image/png": "[encoded data removed]",
      "text/plain": [
       "<matplotlib.figure.Figure at 0x115ccee10>"
      ]
     },
     "metadata": {},
     "output_type": "display_data"
    }
   ],
   "source": [
    "from sklearn.metrics import roc_curve, auc\n",
    "\n",
    "mean_tpr = 0.0\n",
    "mean_fpr = np.linspace(0, 1, 100)\n",
    "\n",
    "\n",
    "fpr, tpr, thres = roc_curve(test_y, prediction[:,1])\n",
    "mean_tpr += np.interp(mean_fpr, fpr, tpr)\n",
    "mean_tpr[0] = 0.0\n",
    "roc_auc = auc(fpr, tpr)\n",
    "plt.plot(fpr, tpr, lw=1, label='ROC (area = %0.2f)' % (roc_auc))\n",
    "\n",
    "plt.xlim([-0.05, 1.05])\n",
    "plt.ylim([-0.05, 1.05])\n",
    "plt.xlabel('False Positive Rate')\n",
    "plt.ylabel('True Positive Rate')\n",
    "plt.title('Receiver operating characteristic of Loan Charged Off', y=1.02)\n",
    "plt.legend(loc=\"lower right\")\n",
    "plt.show()"
   ]
  },
  {
   "cell_type": "markdown",
   "metadata": {},
   "source": [
    "**Model training scenario 2: Split on 2015-08**"
   ]
  },
  {
   "cell_type": "code",
   "execution_count": 120,
   "metadata": {
    "collapsed": false
   },
   "outputs": [
    {
     "data": {
      "text/plain": [
       "((11312, 8), (6763, 8))"
      ]
     },
     "execution_count": 120,
     "metadata": {},
     "output_type": "execute_result"
    }
   ],
   "source": [
    "from sklearn.cross_validation import train_test_split\n",
    "\n",
    "splitDate = datetime.datetime(2015,8,1)\n",
    "train_x, train_y, newFeature = data_preprocessing(training_data[training_data['last_pymnt_d']<splitDate],\n",
    "                                                  target_col='target', timestamp='last_pymnt_d')\n",
    "\n",
    "test_x, test_y, newFeature = data_preprocessing(training_data[training_data['last_pymnt_d']>=splitDate],\n",
    "                                                target_col='target', timestamp='last_pymnt_d')\n",
    "\n",
    "train_x.shape, test_x.shape"
   ]
  },
  {
   "cell_type": "code",
   "execution_count": 121,
   "metadata": {
    "collapsed": false
   },
   "outputs": [],
   "source": [
    "rf = RandomForestClassifier(n_estimators=400, n_jobs=4, min_samples_split=100)\n",
    "rf.fit(train_x, train_y)\n",
    "\n",
    "prediction =rf.predict_proba(test_x)"
   ]
  },
  {
   "cell_type": "code",
   "execution_count": 122,
   "metadata": {
    "collapsed": false
   },
   "outputs": [
    {
     "data": {
      "image/png": "[encoded data removed]",
      "text/plain": [
       "<matplotlib.figure.Figure at 0x118502e50>"
      ]
     },
     "metadata": {},
     "output_type": "display_data"
    }
   ],
   "source": [
    "from sklearn.metrics import roc_curve, auc\n",
    "\n",
    "mean_tpr = 0.0\n",
    "mean_fpr = np.linspace(0, 1, 500)\n",
    "\n",
    "fpr, tpr, thres = roc_curve(test_y, prediction[:,1])\n",
    "mean_tpr += np.interp(mean_fpr, fpr, tpr)\n",
    "mean_tpr[0] = 0.0\n",
    "roc_auc = auc(fpr, tpr)\n",
    "plt.plot(fpr, tpr, lw=1, label='ROC (area = %0.2f)' % (roc_auc))\n",
    "\n",
    "plt.xlim([-0.05, 1.05])\n",
    "plt.ylim([-0.05, 1.05])\n",
    "plt.xlabel('False Positive Rate')\n",
    "plt.ylabel('True Positive Rate')\n",
    "plt.title('Receiver operating characteristic of Loan Charged Off', y=1.02)\n",
    "plt.legend(loc=\"lower right\")\n",
    "plt.show()"
   ]
  },
  {
   "cell_type": "markdown",
   "metadata": {},
   "source": [
    "#### Reset 'Current' loans to the new month, 01/2016:"
   ]
  },
  {
   "cell_type": "code",
   "execution_count": 57,
   "metadata": {
    "collapsed": true
   },
   "outputs": [],
   "source": [
    "validation_data = data[data['loan_status']=='Current'].copy()\n",
    "validation_data['month_since_launch'] = (datetime.datetime(2016,1,1) - validation_data['issue_d']).\\\n",
    "apply(int) / (86400 * 1e9)\n",
    "validation_data['time_to_fully_paid'] = 365 * 3.0 - validation_data['month_since_launch'] "
   ]
  },
  {
   "cell_type": "code",
   "execution_count": 58,
   "metadata": {
    "collapsed": false
   },
   "outputs": [
    {
     "data": {
      "text/html": [
       "<div>\n",
       "<table border=\"1\" class=\"dataframe\">\n",
       "  <thead>\n",
       "    <tr style=\"text-align: right;\">\n",
       "      <th></th>\n",
       "      <th></th>\n",
       "      <th>member_id</th>\n",
       "    </tr>\n",
       "    <tr>\n",
       "      <th>last_pymnt_d</th>\n",
       "      <th>loan_status</th>\n",
       "      <th></th>\n",
       "    </tr>\n",
       "  </thead>\n",
       "  <tbody>\n",
       "    <tr>\n",
       "      <th>2015-09-01</th>\n",
       "      <th>Current</th>\n",
       "      <td>391</td>\n",
       "    </tr>\n",
       "    <tr>\n",
       "      <th>2015-10-01</th>\n",
       "      <th>Current</th>\n",
       "      <td>219243</td>\n",
       "    </tr>\n",
       "  </tbody>\n",
       "</table>\n",
       "</div>"
      ],
      "text/plain": [
       "                          member_id\n",
       "last_pymnt_d loan_status           \n",
       "2015-09-01   Current            391\n",
       "2015-10-01   Current         219243"
      ]
     },
     "execution_count": 58,
     "metadata": {},
     "output_type": "execute_result"
    }
   ],
   "source": [
    "validation_data.groupby(['last_pymnt_d', 'loan_status']).agg({'member_id':lambda x:x.nunique(0)})"
   ]
  },
  {
   "cell_type": "code",
   "execution_count": 59,
   "metadata": {
    "collapsed": false
   },
   "outputs": [
    {
     "data": {
      "text/plain": [
       "<matplotlib.text.Text at 0x10dfd8510>"
      ]
     },
     "execution_count": 59,
     "metadata": {},
     "output_type": "execute_result"
    },
    {
     "data": {
      "image/png": "[encoded data removed]",
      "text/plain": [
       "<matplotlib.figure.Figure at 0x10b0ce4d0>"
      ]
     },
     "metadata": {},
     "output_type": "display_data"
    }
   ],
   "source": [
    "hist = plt.hist(rf.predict_proba(validation_data[Features])[:,1], bins=100)\n",
    "plt.title('Probability Histogram of Charged Off', y=1.02, fontsize=15)\n",
    "plt.xlabel('Probability', fontsize=12)\n",
    "plt.ylabel('Frequency', fontsize=12)"
   ]
  },
  {
   "cell_type": "code",
   "execution_count": null,
   "metadata": {
    "collapsed": true
   },
   "outputs": [],
   "source": []
  }
 ],
 "metadata": {
  "kernelspec": {
   "display_name": "Python 2",
   "language": "python",
   "name": "python2"
  },
  "language_info": {
   "codemirror_mode": {
    "name": "ipython",
    "version": 2
   },
   "file_extension": ".py",
   "mimetype": "text/x-python",
   "name": "python",
   "nbconvert_exporter": "python",
   "pygments_lexer": "ipython2",
   "version": "2.7.11"
  }
 },
 "nbformat": 4,
 "nbformat_minor": 0
}
